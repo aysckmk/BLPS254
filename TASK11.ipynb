{
  "nbformat": 4,
  "nbformat_minor": 0,
  "metadata": {
    "colab": {
      "provenance": [],
      "include_colab_link": true
    },
    "kernelspec": {
      "name": "python3",
      "display_name": "Python 3"
    },
    "language_info": {
      "name": "python"
    }
  },
  "cells": [
    {
      "cell_type": "markdown",
      "metadata": {
        "id": "view-in-github",
        "colab_type": "text"
      },
      "source": [
        "<a href=\"https://colab.research.google.com/github/aysckmk/BLPS254/blob/main/TASK11.ipynb\" target=\"_parent\"><img src=\"https://colab.research.google.com/assets/colab-badge.svg\" alt=\"Open In Colab\"/></a>"
      ]
    },
    {
      "cell_type": "code",
      "execution_count": 4,
      "metadata": {
        "colab": {
          "base_uri": "https://localhost:8080/",
          "height": 488
        },
        "id": "RQK2Szf15utA",
        "outputId": "a18024fa-2e78-4cc4-adc5-ea8a3802d64f"
      },
      "outputs": [
        {
          "output_type": "execute_result",
          "data": {
            "text/plain": [
              "      SEX  INDEPEND  MEMORY  ORIENT  JUDGMENT  COMMUN  HOMEHOBB  PERSCARE  \\\n",
              "0       2         1       0       0         0       0         0         0   \n",
              "1       2         1       0       0         0       0         0         0   \n",
              "2       2         1       0       0         0       0         0         0   \n",
              "3       1         1       0       0         0       0         0         0   \n",
              "4       2         1       0       0         0       0         0         0   \n",
              "...   ...       ...     ...     ...       ...     ...       ...       ...   \n",
              "1595    2         1       0       0         0       0         0         0   \n",
              "1596    2         1       0       0         0       0         0         0   \n",
              "1597    1         2       2       2         2       2         2         2   \n",
              "1598    2         1       0       0         0       0         0         0   \n",
              "1599    2         2       1       1         1       1         1         0   \n",
              "\n",
              "      CDRGLOB  NPISCORE  ...    RSUPFR   RSUPFRM   RSUPPAR  RSUPPARM  \\\n",
              "0           0         0  ...  0.022229  0.002573  0.012313  0.001690   \n",
              "1           0         0  ...  0.024551  0.002161  0.009114  0.001402   \n",
              "2           0         0  ...  0.023044  0.002528  0.011245  0.001631   \n",
              "3           0         1  ...  0.025236  0.001905  0.010176  0.001439   \n",
              "4           0         0  ...  0.024523  0.001865  0.009781  0.001139   \n",
              "...       ...       ...  ...       ...       ...       ...       ...   \n",
              "1595        0         2  ...  0.025420  0.002925  0.011830  0.001772   \n",
              "1596        0         0  ...  0.024433  0.002743  0.010769  0.001696   \n",
              "1597        2         7  ...  0.028646  0.002051  0.010201  0.001462   \n",
              "1598        0         2  ...  0.026394  0.002981  0.009892  0.001980   \n",
              "1599        1         4  ...  0.026085  0.003527  0.007762  0.001366   \n",
              "\n",
              "       RSUPTEM  RSUPTEMM   RSUPMAR  RSUPMARM    RTRTEM   RTRTEMM  \n",
              "0     0.013390  0.002362  0.008422  0.001901  0.000727  0.001242  \n",
              "1     0.011982  0.001958  0.007428  0.001745  0.001002  0.001436  \n",
              "2     0.014259  0.002555  0.009018  0.001929  0.001011  0.001175  \n",
              "3     0.014644  0.001889  0.008720  0.001722  0.001107  0.001664  \n",
              "4     0.014733  0.001973  0.008312  0.001255  0.000858  0.001543  \n",
              "...        ...       ...       ...       ...       ...       ...  \n",
              "1595  0.012750  0.002526  0.009636  0.002026  0.001097  0.001902  \n",
              "1596  0.013166  0.002124  0.007746  0.002225  0.000581  0.001011  \n",
              "1597  0.012770  0.001882  0.010078  0.001834  0.000549  0.001365  \n",
              "1598  0.014052  0.002180  0.009527  0.002300  0.001162  0.001734  \n",
              "1599  0.012987  0.002387  0.009740  0.002594  0.000961  0.001636  \n",
              "\n",
              "[1600 rows x 154 columns]"
            ],
            "text/html": [
              "\n",
              "  <div id=\"df-047b7479-5607-4bd9-b5de-d2a5b953b260\">\n",
              "    <div class=\"colab-df-container\">\n",
              "      <div>\n",
              "<style scoped>\n",
              "    .dataframe tbody tr th:only-of-type {\n",
              "        vertical-align: middle;\n",
              "    }\n",
              "\n",
              "    .dataframe tbody tr th {\n",
              "        vertical-align: top;\n",
              "    }\n",
              "\n",
              "    .dataframe thead th {\n",
              "        text-align: right;\n",
              "    }\n",
              "</style>\n",
              "<table border=\"1\" class=\"dataframe\">\n",
              "  <thead>\n",
              "    <tr style=\"text-align: right;\">\n",
              "      <th></th>\n",
              "      <th>SEX</th>\n",
              "      <th>INDEPEND</th>\n",
              "      <th>MEMORY</th>\n",
              "      <th>ORIENT</th>\n",
              "      <th>JUDGMENT</th>\n",
              "      <th>COMMUN</th>\n",
              "      <th>HOMEHOBB</th>\n",
              "      <th>PERSCARE</th>\n",
              "      <th>CDRGLOB</th>\n",
              "      <th>NPISCORE</th>\n",
              "      <th>...</th>\n",
              "      <th>RSUPFR</th>\n",
              "      <th>RSUPFRM</th>\n",
              "      <th>RSUPPAR</th>\n",
              "      <th>RSUPPARM</th>\n",
              "      <th>RSUPTEM</th>\n",
              "      <th>RSUPTEMM</th>\n",
              "      <th>RSUPMAR</th>\n",
              "      <th>RSUPMARM</th>\n",
              "      <th>RTRTEM</th>\n",
              "      <th>RTRTEMM</th>\n",
              "    </tr>\n",
              "  </thead>\n",
              "  <tbody>\n",
              "    <tr>\n",
              "      <th>0</th>\n",
              "      <td>2</td>\n",
              "      <td>1</td>\n",
              "      <td>0</td>\n",
              "      <td>0</td>\n",
              "      <td>0</td>\n",
              "      <td>0</td>\n",
              "      <td>0</td>\n",
              "      <td>0</td>\n",
              "      <td>0</td>\n",
              "      <td>0</td>\n",
              "      <td>...</td>\n",
              "      <td>0.022229</td>\n",
              "      <td>0.002573</td>\n",
              "      <td>0.012313</td>\n",
              "      <td>0.001690</td>\n",
              "      <td>0.013390</td>\n",
              "      <td>0.002362</td>\n",
              "      <td>0.008422</td>\n",
              "      <td>0.001901</td>\n",
              "      <td>0.000727</td>\n",
              "      <td>0.001242</td>\n",
              "    </tr>\n",
              "    <tr>\n",
              "      <th>1</th>\n",
              "      <td>2</td>\n",
              "      <td>1</td>\n",
              "      <td>0</td>\n",
              "      <td>0</td>\n",
              "      <td>0</td>\n",
              "      <td>0</td>\n",
              "      <td>0</td>\n",
              "      <td>0</td>\n",
              "      <td>0</td>\n",
              "      <td>0</td>\n",
              "      <td>...</td>\n",
              "      <td>0.024551</td>\n",
              "      <td>0.002161</td>\n",
              "      <td>0.009114</td>\n",
              "      <td>0.001402</td>\n",
              "      <td>0.011982</td>\n",
              "      <td>0.001958</td>\n",
              "      <td>0.007428</td>\n",
              "      <td>0.001745</td>\n",
              "      <td>0.001002</td>\n",
              "      <td>0.001436</td>\n",
              "    </tr>\n",
              "    <tr>\n",
              "      <th>2</th>\n",
              "      <td>2</td>\n",
              "      <td>1</td>\n",
              "      <td>0</td>\n",
              "      <td>0</td>\n",
              "      <td>0</td>\n",
              "      <td>0</td>\n",
              "      <td>0</td>\n",
              "      <td>0</td>\n",
              "      <td>0</td>\n",
              "      <td>0</td>\n",
              "      <td>...</td>\n",
              "      <td>0.023044</td>\n",
              "      <td>0.002528</td>\n",
              "      <td>0.011245</td>\n",
              "      <td>0.001631</td>\n",
              "      <td>0.014259</td>\n",
              "      <td>0.002555</td>\n",
              "      <td>0.009018</td>\n",
              "      <td>0.001929</td>\n",
              "      <td>0.001011</td>\n",
              "      <td>0.001175</td>\n",
              "    </tr>\n",
              "    <tr>\n",
              "      <th>3</th>\n",
              "      <td>1</td>\n",
              "      <td>1</td>\n",
              "      <td>0</td>\n",
              "      <td>0</td>\n",
              "      <td>0</td>\n",
              "      <td>0</td>\n",
              "      <td>0</td>\n",
              "      <td>0</td>\n",
              "      <td>0</td>\n",
              "      <td>1</td>\n",
              "      <td>...</td>\n",
              "      <td>0.025236</td>\n",
              "      <td>0.001905</td>\n",
              "      <td>0.010176</td>\n",
              "      <td>0.001439</td>\n",
              "      <td>0.014644</td>\n",
              "      <td>0.001889</td>\n",
              "      <td>0.008720</td>\n",
              "      <td>0.001722</td>\n",
              "      <td>0.001107</td>\n",
              "      <td>0.001664</td>\n",
              "    </tr>\n",
              "    <tr>\n",
              "      <th>4</th>\n",
              "      <td>2</td>\n",
              "      <td>1</td>\n",
              "      <td>0</td>\n",
              "      <td>0</td>\n",
              "      <td>0</td>\n",
              "      <td>0</td>\n",
              "      <td>0</td>\n",
              "      <td>0</td>\n",
              "      <td>0</td>\n",
              "      <td>0</td>\n",
              "      <td>...</td>\n",
              "      <td>0.024523</td>\n",
              "      <td>0.001865</td>\n",
              "      <td>0.009781</td>\n",
              "      <td>0.001139</td>\n",
              "      <td>0.014733</td>\n",
              "      <td>0.001973</td>\n",
              "      <td>0.008312</td>\n",
              "      <td>0.001255</td>\n",
              "      <td>0.000858</td>\n",
              "      <td>0.001543</td>\n",
              "    </tr>\n",
              "    <tr>\n",
              "      <th>...</th>\n",
              "      <td>...</td>\n",
              "      <td>...</td>\n",
              "      <td>...</td>\n",
              "      <td>...</td>\n",
              "      <td>...</td>\n",
              "      <td>...</td>\n",
              "      <td>...</td>\n",
              "      <td>...</td>\n",
              "      <td>...</td>\n",
              "      <td>...</td>\n",
              "      <td>...</td>\n",
              "      <td>...</td>\n",
              "      <td>...</td>\n",
              "      <td>...</td>\n",
              "      <td>...</td>\n",
              "      <td>...</td>\n",
              "      <td>...</td>\n",
              "      <td>...</td>\n",
              "      <td>...</td>\n",
              "      <td>...</td>\n",
              "      <td>...</td>\n",
              "    </tr>\n",
              "    <tr>\n",
              "      <th>1595</th>\n",
              "      <td>2</td>\n",
              "      <td>1</td>\n",
              "      <td>0</td>\n",
              "      <td>0</td>\n",
              "      <td>0</td>\n",
              "      <td>0</td>\n",
              "      <td>0</td>\n",
              "      <td>0</td>\n",
              "      <td>0</td>\n",
              "      <td>2</td>\n",
              "      <td>...</td>\n",
              "      <td>0.025420</td>\n",
              "      <td>0.002925</td>\n",
              "      <td>0.011830</td>\n",
              "      <td>0.001772</td>\n",
              "      <td>0.012750</td>\n",
              "      <td>0.002526</td>\n",
              "      <td>0.009636</td>\n",
              "      <td>0.002026</td>\n",
              "      <td>0.001097</td>\n",
              "      <td>0.001902</td>\n",
              "    </tr>\n",
              "    <tr>\n",
              "      <th>1596</th>\n",
              "      <td>2</td>\n",
              "      <td>1</td>\n",
              "      <td>0</td>\n",
              "      <td>0</td>\n",
              "      <td>0</td>\n",
              "      <td>0</td>\n",
              "      <td>0</td>\n",
              "      <td>0</td>\n",
              "      <td>0</td>\n",
              "      <td>0</td>\n",
              "      <td>...</td>\n",
              "      <td>0.024433</td>\n",
              "      <td>0.002743</td>\n",
              "      <td>0.010769</td>\n",
              "      <td>0.001696</td>\n",
              "      <td>0.013166</td>\n",
              "      <td>0.002124</td>\n",
              "      <td>0.007746</td>\n",
              "      <td>0.002225</td>\n",
              "      <td>0.000581</td>\n",
              "      <td>0.001011</td>\n",
              "    </tr>\n",
              "    <tr>\n",
              "      <th>1597</th>\n",
              "      <td>1</td>\n",
              "      <td>2</td>\n",
              "      <td>2</td>\n",
              "      <td>2</td>\n",
              "      <td>2</td>\n",
              "      <td>2</td>\n",
              "      <td>2</td>\n",
              "      <td>2</td>\n",
              "      <td>2</td>\n",
              "      <td>7</td>\n",
              "      <td>...</td>\n",
              "      <td>0.028646</td>\n",
              "      <td>0.002051</td>\n",
              "      <td>0.010201</td>\n",
              "      <td>0.001462</td>\n",
              "      <td>0.012770</td>\n",
              "      <td>0.001882</td>\n",
              "      <td>0.010078</td>\n",
              "      <td>0.001834</td>\n",
              "      <td>0.000549</td>\n",
              "      <td>0.001365</td>\n",
              "    </tr>\n",
              "    <tr>\n",
              "      <th>1598</th>\n",
              "      <td>2</td>\n",
              "      <td>1</td>\n",
              "      <td>0</td>\n",
              "      <td>0</td>\n",
              "      <td>0</td>\n",
              "      <td>0</td>\n",
              "      <td>0</td>\n",
              "      <td>0</td>\n",
              "      <td>0</td>\n",
              "      <td>2</td>\n",
              "      <td>...</td>\n",
              "      <td>0.026394</td>\n",
              "      <td>0.002981</td>\n",
              "      <td>0.009892</td>\n",
              "      <td>0.001980</td>\n",
              "      <td>0.014052</td>\n",
              "      <td>0.002180</td>\n",
              "      <td>0.009527</td>\n",
              "      <td>0.002300</td>\n",
              "      <td>0.001162</td>\n",
              "      <td>0.001734</td>\n",
              "    </tr>\n",
              "    <tr>\n",
              "      <th>1599</th>\n",
              "      <td>2</td>\n",
              "      <td>2</td>\n",
              "      <td>1</td>\n",
              "      <td>1</td>\n",
              "      <td>1</td>\n",
              "      <td>1</td>\n",
              "      <td>1</td>\n",
              "      <td>0</td>\n",
              "      <td>1</td>\n",
              "      <td>4</td>\n",
              "      <td>...</td>\n",
              "      <td>0.026085</td>\n",
              "      <td>0.003527</td>\n",
              "      <td>0.007762</td>\n",
              "      <td>0.001366</td>\n",
              "      <td>0.012987</td>\n",
              "      <td>0.002387</td>\n",
              "      <td>0.009740</td>\n",
              "      <td>0.002594</td>\n",
              "      <td>0.000961</td>\n",
              "      <td>0.001636</td>\n",
              "    </tr>\n",
              "  </tbody>\n",
              "</table>\n",
              "<p>1600 rows × 154 columns</p>\n",
              "</div>\n",
              "      <button class=\"colab-df-convert\" onclick=\"convertToInteractive('df-047b7479-5607-4bd9-b5de-d2a5b953b260')\"\n",
              "              title=\"Convert this dataframe to an interactive table.\"\n",
              "              style=\"display:none;\">\n",
              "        \n",
              "  <svg xmlns=\"http://www.w3.org/2000/svg\" height=\"24px\"viewBox=\"0 0 24 24\"\n",
              "       width=\"24px\">\n",
              "    <path d=\"M0 0h24v24H0V0z\" fill=\"none\"/>\n",
              "    <path d=\"M18.56 5.44l.94 2.06.94-2.06 2.06-.94-2.06-.94-.94-2.06-.94 2.06-2.06.94zm-11 1L8.5 8.5l.94-2.06 2.06-.94-2.06-.94L8.5 2.5l-.94 2.06-2.06.94zm10 10l.94 2.06.94-2.06 2.06-.94-2.06-.94-.94-2.06-.94 2.06-2.06.94z\"/><path d=\"M17.41 7.96l-1.37-1.37c-.4-.4-.92-.59-1.43-.59-.52 0-1.04.2-1.43.59L10.3 9.45l-7.72 7.72c-.78.78-.78 2.05 0 2.83L4 21.41c.39.39.9.59 1.41.59.51 0 1.02-.2 1.41-.59l7.78-7.78 2.81-2.81c.8-.78.8-2.07 0-2.86zM5.41 20L4 18.59l7.72-7.72 1.47 1.35L5.41 20z\"/>\n",
              "  </svg>\n",
              "      </button>\n",
              "      \n",
              "  <style>\n",
              "    .colab-df-container {\n",
              "      display:flex;\n",
              "      flex-wrap:wrap;\n",
              "      gap: 12px;\n",
              "    }\n",
              "\n",
              "    .colab-df-convert {\n",
              "      background-color: #E8F0FE;\n",
              "      border: none;\n",
              "      border-radius: 50%;\n",
              "      cursor: pointer;\n",
              "      display: none;\n",
              "      fill: #1967D2;\n",
              "      height: 32px;\n",
              "      padding: 0 0 0 0;\n",
              "      width: 32px;\n",
              "    }\n",
              "\n",
              "    .colab-df-convert:hover {\n",
              "      background-color: #E2EBFA;\n",
              "      box-shadow: 0px 1px 2px rgba(60, 64, 67, 0.3), 0px 1px 3px 1px rgba(60, 64, 67, 0.15);\n",
              "      fill: #174EA6;\n",
              "    }\n",
              "\n",
              "    [theme=dark] .colab-df-convert {\n",
              "      background-color: #3B4455;\n",
              "      fill: #D2E3FC;\n",
              "    }\n",
              "\n",
              "    [theme=dark] .colab-df-convert:hover {\n",
              "      background-color: #434B5C;\n",
              "      box-shadow: 0px 1px 3px 1px rgba(0, 0, 0, 0.15);\n",
              "      filter: drop-shadow(0px 1px 2px rgba(0, 0, 0, 0.3));\n",
              "      fill: #FFFFFF;\n",
              "    }\n",
              "  </style>\n",
              "\n",
              "      <script>\n",
              "        const buttonEl =\n",
              "          document.querySelector('#df-047b7479-5607-4bd9-b5de-d2a5b953b260 button.colab-df-convert');\n",
              "        buttonEl.style.display =\n",
              "          google.colab.kernel.accessAllowed ? 'block' : 'none';\n",
              "\n",
              "        async function convertToInteractive(key) {\n",
              "          const element = document.querySelector('#df-047b7479-5607-4bd9-b5de-d2a5b953b260');\n",
              "          const dataTable =\n",
              "            await google.colab.kernel.invokeFunction('convertToInteractive',\n",
              "                                                     [key], {});\n",
              "          if (!dataTable) return;\n",
              "\n",
              "          const docLinkHtml = 'Like what you see? Visit the ' +\n",
              "            '<a target=\"_blank\" href=https://colab.research.google.com/notebooks/data_table.ipynb>data table notebook</a>'\n",
              "            + ' to learn more about interactive tables.';\n",
              "          element.innerHTML = '';\n",
              "          dataTable['output_type'] = 'display_data';\n",
              "          await google.colab.output.renderOutput(dataTable, element);\n",
              "          const docLink = document.createElement('div');\n",
              "          docLink.innerHTML = docLinkHtml;\n",
              "          element.appendChild(docLink);\n",
              "        }\n",
              "      </script>\n",
              "    </div>\n",
              "  </div>\n",
              "  "
            ]
          },
          "metadata": {},
          "execution_count": 4
        }
      ],
      "source": [
        "import pandas as pd\n",
        "data = pd.read_excel(\"CDR_6_MRI(full).xlsx\")\n",
        "data"
      ]
    },
    {
      "cell_type": "code",
      "source": [
        "data.iloc[:,15:]"
      ],
      "metadata": {
        "colab": {
          "base_uri": "https://localhost:8080/",
          "height": 488
        },
        "id": "v0tjTRbr5x-J",
        "outputId": "9d8665ad-fdaa-48f1-d17b-5319b1025404"
      },
      "execution_count": 5,
      "outputs": [
        {
          "output_type": "execute_result",
          "data": {
            "text/plain": [
              "      NACCWMVL    CSFVOL   GRAYVOL  WHITEVOL    WMHVOL  HIPPOVOL  CERETISS  \\\n",
              "0     0.462054  0.204611  0.538469  0.461531  0.000522  0.006573  0.863848   \n",
              "1     0.452142  0.208528  0.548315  0.451685  0.000457  0.006276  0.863232   \n",
              "2     0.454862  0.214075  0.552288  0.447712  0.007150  0.006077  0.886453   \n",
              "3     0.414458  0.214210  0.585542  0.414458  0.000000  0.005425  0.863620   \n",
              "4     0.460034  0.217467  0.540040  0.459960  0.000074  0.006182  0.867648   \n",
              "...        ...       ...       ...       ...       ...       ...       ...   \n",
              "1595  0.389969  0.526649  0.611413  0.388587  0.001382  0.005437  0.924830   \n",
              "1596  0.384902  0.531604  0.625704  0.374296  0.010606  0.005510  0.903673   \n",
              "1597  0.422902  0.552220  0.594076  0.405924  0.016979  0.005962  0.866307   \n",
              "1598  0.421436  0.555311  0.604969  0.395031  0.026405  0.006427  0.917510   \n",
              "1599  0.410555  0.583963  0.600372  0.399628  0.010928  0.006582  0.908855   \n",
              "\n",
              "       CERECSF    CEREGR    CEREWH  ...    RSUPFR   RSUPFRM   RSUPPAR  \\\n",
              "0     0.163927  0.442985  0.420341  ...  0.022229  0.002573  0.012313   \n",
              "1     0.178021  0.456778  0.405998  ...  0.024551  0.002161  0.009114   \n",
              "2     0.177150  0.462365  0.416940  ...  0.023044  0.002528  0.011245   \n",
              "3     0.168248  0.490731  0.372889  ...  0.025236  0.001905  0.010176   \n",
              "4     0.177848  0.455734  0.411839  ...  0.024523  0.001865  0.009781   \n",
              "...        ...       ...       ...  ...       ...       ...       ...   \n",
              "1595  0.457764  0.548729  0.374719  ...  0.025420  0.002925  0.011830   \n",
              "1596  0.465184  0.538755  0.354312  ...  0.024433  0.002743  0.010769   \n",
              "1597  0.462787  0.495480  0.353888  ...  0.028646  0.002051  0.010201   \n",
              "1598  0.472134  0.522985  0.368120  ...  0.026394  0.002981  0.009892   \n",
              "1599  0.491761  0.521417  0.376509  ...  0.026085  0.003527  0.007762   \n",
              "\n",
              "      RSUPPARM   RSUPTEM  RSUPTEMM   RSUPMAR  RSUPMARM    RTRTEM   RTRTEMM  \n",
              "0     0.001690  0.013390  0.002362  0.008422  0.001901  0.000727  0.001242  \n",
              "1     0.001402  0.011982  0.001958  0.007428  0.001745  0.001002  0.001436  \n",
              "2     0.001631  0.014259  0.002555  0.009018  0.001929  0.001011  0.001175  \n",
              "3     0.001439  0.014644  0.001889  0.008720  0.001722  0.001107  0.001664  \n",
              "4     0.001139  0.014733  0.001973  0.008312  0.001255  0.000858  0.001543  \n",
              "...        ...       ...       ...       ...       ...       ...       ...  \n",
              "1595  0.001772  0.012750  0.002526  0.009636  0.002026  0.001097  0.001902  \n",
              "1596  0.001696  0.013166  0.002124  0.007746  0.002225  0.000581  0.001011  \n",
              "1597  0.001462  0.012770  0.001882  0.010078  0.001834  0.000549  0.001365  \n",
              "1598  0.001980  0.014052  0.002180  0.009527  0.002300  0.001162  0.001734  \n",
              "1599  0.001366  0.012987  0.002387  0.009740  0.002594  0.000961  0.001636  \n",
              "\n",
              "[1600 rows x 139 columns]"
            ],
            "text/html": [
              "\n",
              "  <div id=\"df-9854f72a-7080-4d3c-b407-0b33e7b41265\">\n",
              "    <div class=\"colab-df-container\">\n",
              "      <div>\n",
              "<style scoped>\n",
              "    .dataframe tbody tr th:only-of-type {\n",
              "        vertical-align: middle;\n",
              "    }\n",
              "\n",
              "    .dataframe tbody tr th {\n",
              "        vertical-align: top;\n",
              "    }\n",
              "\n",
              "    .dataframe thead th {\n",
              "        text-align: right;\n",
              "    }\n",
              "</style>\n",
              "<table border=\"1\" class=\"dataframe\">\n",
              "  <thead>\n",
              "    <tr style=\"text-align: right;\">\n",
              "      <th></th>\n",
              "      <th>NACCWMVL</th>\n",
              "      <th>CSFVOL</th>\n",
              "      <th>GRAYVOL</th>\n",
              "      <th>WHITEVOL</th>\n",
              "      <th>WMHVOL</th>\n",
              "      <th>HIPPOVOL</th>\n",
              "      <th>CERETISS</th>\n",
              "      <th>CERECSF</th>\n",
              "      <th>CEREGR</th>\n",
              "      <th>CEREWH</th>\n",
              "      <th>...</th>\n",
              "      <th>RSUPFR</th>\n",
              "      <th>RSUPFRM</th>\n",
              "      <th>RSUPPAR</th>\n",
              "      <th>RSUPPARM</th>\n",
              "      <th>RSUPTEM</th>\n",
              "      <th>RSUPTEMM</th>\n",
              "      <th>RSUPMAR</th>\n",
              "      <th>RSUPMARM</th>\n",
              "      <th>RTRTEM</th>\n",
              "      <th>RTRTEMM</th>\n",
              "    </tr>\n",
              "  </thead>\n",
              "  <tbody>\n",
              "    <tr>\n",
              "      <th>0</th>\n",
              "      <td>0.462054</td>\n",
              "      <td>0.204611</td>\n",
              "      <td>0.538469</td>\n",
              "      <td>0.461531</td>\n",
              "      <td>0.000522</td>\n",
              "      <td>0.006573</td>\n",
              "      <td>0.863848</td>\n",
              "      <td>0.163927</td>\n",
              "      <td>0.442985</td>\n",
              "      <td>0.420341</td>\n",
              "      <td>...</td>\n",
              "      <td>0.022229</td>\n",
              "      <td>0.002573</td>\n",
              "      <td>0.012313</td>\n",
              "      <td>0.001690</td>\n",
              "      <td>0.013390</td>\n",
              "      <td>0.002362</td>\n",
              "      <td>0.008422</td>\n",
              "      <td>0.001901</td>\n",
              "      <td>0.000727</td>\n",
              "      <td>0.001242</td>\n",
              "    </tr>\n",
              "    <tr>\n",
              "      <th>1</th>\n",
              "      <td>0.452142</td>\n",
              "      <td>0.208528</td>\n",
              "      <td>0.548315</td>\n",
              "      <td>0.451685</td>\n",
              "      <td>0.000457</td>\n",
              "      <td>0.006276</td>\n",
              "      <td>0.863232</td>\n",
              "      <td>0.178021</td>\n",
              "      <td>0.456778</td>\n",
              "      <td>0.405998</td>\n",
              "      <td>...</td>\n",
              "      <td>0.024551</td>\n",
              "      <td>0.002161</td>\n",
              "      <td>0.009114</td>\n",
              "      <td>0.001402</td>\n",
              "      <td>0.011982</td>\n",
              "      <td>0.001958</td>\n",
              "      <td>0.007428</td>\n",
              "      <td>0.001745</td>\n",
              "      <td>0.001002</td>\n",
              "      <td>0.001436</td>\n",
              "    </tr>\n",
              "    <tr>\n",
              "      <th>2</th>\n",
              "      <td>0.454862</td>\n",
              "      <td>0.214075</td>\n",
              "      <td>0.552288</td>\n",
              "      <td>0.447712</td>\n",
              "      <td>0.007150</td>\n",
              "      <td>0.006077</td>\n",
              "      <td>0.886453</td>\n",
              "      <td>0.177150</td>\n",
              "      <td>0.462365</td>\n",
              "      <td>0.416940</td>\n",
              "      <td>...</td>\n",
              "      <td>0.023044</td>\n",
              "      <td>0.002528</td>\n",
              "      <td>0.011245</td>\n",
              "      <td>0.001631</td>\n",
              "      <td>0.014259</td>\n",
              "      <td>0.002555</td>\n",
              "      <td>0.009018</td>\n",
              "      <td>0.001929</td>\n",
              "      <td>0.001011</td>\n",
              "      <td>0.001175</td>\n",
              "    </tr>\n",
              "    <tr>\n",
              "      <th>3</th>\n",
              "      <td>0.414458</td>\n",
              "      <td>0.214210</td>\n",
              "      <td>0.585542</td>\n",
              "      <td>0.414458</td>\n",
              "      <td>0.000000</td>\n",
              "      <td>0.005425</td>\n",
              "      <td>0.863620</td>\n",
              "      <td>0.168248</td>\n",
              "      <td>0.490731</td>\n",
              "      <td>0.372889</td>\n",
              "      <td>...</td>\n",
              "      <td>0.025236</td>\n",
              "      <td>0.001905</td>\n",
              "      <td>0.010176</td>\n",
              "      <td>0.001439</td>\n",
              "      <td>0.014644</td>\n",
              "      <td>0.001889</td>\n",
              "      <td>0.008720</td>\n",
              "      <td>0.001722</td>\n",
              "      <td>0.001107</td>\n",
              "      <td>0.001664</td>\n",
              "    </tr>\n",
              "    <tr>\n",
              "      <th>4</th>\n",
              "      <td>0.460034</td>\n",
              "      <td>0.217467</td>\n",
              "      <td>0.540040</td>\n",
              "      <td>0.459960</td>\n",
              "      <td>0.000074</td>\n",
              "      <td>0.006182</td>\n",
              "      <td>0.867648</td>\n",
              "      <td>0.177848</td>\n",
              "      <td>0.455734</td>\n",
              "      <td>0.411839</td>\n",
              "      <td>...</td>\n",
              "      <td>0.024523</td>\n",
              "      <td>0.001865</td>\n",
              "      <td>0.009781</td>\n",
              "      <td>0.001139</td>\n",
              "      <td>0.014733</td>\n",
              "      <td>0.001973</td>\n",
              "      <td>0.008312</td>\n",
              "      <td>0.001255</td>\n",
              "      <td>0.000858</td>\n",
              "      <td>0.001543</td>\n",
              "    </tr>\n",
              "    <tr>\n",
              "      <th>...</th>\n",
              "      <td>...</td>\n",
              "      <td>...</td>\n",
              "      <td>...</td>\n",
              "      <td>...</td>\n",
              "      <td>...</td>\n",
              "      <td>...</td>\n",
              "      <td>...</td>\n",
              "      <td>...</td>\n",
              "      <td>...</td>\n",
              "      <td>...</td>\n",
              "      <td>...</td>\n",
              "      <td>...</td>\n",
              "      <td>...</td>\n",
              "      <td>...</td>\n",
              "      <td>...</td>\n",
              "      <td>...</td>\n",
              "      <td>...</td>\n",
              "      <td>...</td>\n",
              "      <td>...</td>\n",
              "      <td>...</td>\n",
              "      <td>...</td>\n",
              "    </tr>\n",
              "    <tr>\n",
              "      <th>1595</th>\n",
              "      <td>0.389969</td>\n",
              "      <td>0.526649</td>\n",
              "      <td>0.611413</td>\n",
              "      <td>0.388587</td>\n",
              "      <td>0.001382</td>\n",
              "      <td>0.005437</td>\n",
              "      <td>0.924830</td>\n",
              "      <td>0.457764</td>\n",
              "      <td>0.548729</td>\n",
              "      <td>0.374719</td>\n",
              "      <td>...</td>\n",
              "      <td>0.025420</td>\n",
              "      <td>0.002925</td>\n",
              "      <td>0.011830</td>\n",
              "      <td>0.001772</td>\n",
              "      <td>0.012750</td>\n",
              "      <td>0.002526</td>\n",
              "      <td>0.009636</td>\n",
              "      <td>0.002026</td>\n",
              "      <td>0.001097</td>\n",
              "      <td>0.001902</td>\n",
              "    </tr>\n",
              "    <tr>\n",
              "      <th>1596</th>\n",
              "      <td>0.384902</td>\n",
              "      <td>0.531604</td>\n",
              "      <td>0.625704</td>\n",
              "      <td>0.374296</td>\n",
              "      <td>0.010606</td>\n",
              "      <td>0.005510</td>\n",
              "      <td>0.903673</td>\n",
              "      <td>0.465184</td>\n",
              "      <td>0.538755</td>\n",
              "      <td>0.354312</td>\n",
              "      <td>...</td>\n",
              "      <td>0.024433</td>\n",
              "      <td>0.002743</td>\n",
              "      <td>0.010769</td>\n",
              "      <td>0.001696</td>\n",
              "      <td>0.013166</td>\n",
              "      <td>0.002124</td>\n",
              "      <td>0.007746</td>\n",
              "      <td>0.002225</td>\n",
              "      <td>0.000581</td>\n",
              "      <td>0.001011</td>\n",
              "    </tr>\n",
              "    <tr>\n",
              "      <th>1597</th>\n",
              "      <td>0.422902</td>\n",
              "      <td>0.552220</td>\n",
              "      <td>0.594076</td>\n",
              "      <td>0.405924</td>\n",
              "      <td>0.016979</td>\n",
              "      <td>0.005962</td>\n",
              "      <td>0.866307</td>\n",
              "      <td>0.462787</td>\n",
              "      <td>0.495480</td>\n",
              "      <td>0.353888</td>\n",
              "      <td>...</td>\n",
              "      <td>0.028646</td>\n",
              "      <td>0.002051</td>\n",
              "      <td>0.010201</td>\n",
              "      <td>0.001462</td>\n",
              "      <td>0.012770</td>\n",
              "      <td>0.001882</td>\n",
              "      <td>0.010078</td>\n",
              "      <td>0.001834</td>\n",
              "      <td>0.000549</td>\n",
              "      <td>0.001365</td>\n",
              "    </tr>\n",
              "    <tr>\n",
              "      <th>1598</th>\n",
              "      <td>0.421436</td>\n",
              "      <td>0.555311</td>\n",
              "      <td>0.604969</td>\n",
              "      <td>0.395031</td>\n",
              "      <td>0.026405</td>\n",
              "      <td>0.006427</td>\n",
              "      <td>0.917510</td>\n",
              "      <td>0.472134</td>\n",
              "      <td>0.522985</td>\n",
              "      <td>0.368120</td>\n",
              "      <td>...</td>\n",
              "      <td>0.026394</td>\n",
              "      <td>0.002981</td>\n",
              "      <td>0.009892</td>\n",
              "      <td>0.001980</td>\n",
              "      <td>0.014052</td>\n",
              "      <td>0.002180</td>\n",
              "      <td>0.009527</td>\n",
              "      <td>0.002300</td>\n",
              "      <td>0.001162</td>\n",
              "      <td>0.001734</td>\n",
              "    </tr>\n",
              "    <tr>\n",
              "      <th>1599</th>\n",
              "      <td>0.410555</td>\n",
              "      <td>0.583963</td>\n",
              "      <td>0.600372</td>\n",
              "      <td>0.399628</td>\n",
              "      <td>0.010928</td>\n",
              "      <td>0.006582</td>\n",
              "      <td>0.908855</td>\n",
              "      <td>0.491761</td>\n",
              "      <td>0.521417</td>\n",
              "      <td>0.376509</td>\n",
              "      <td>...</td>\n",
              "      <td>0.026085</td>\n",
              "      <td>0.003527</td>\n",
              "      <td>0.007762</td>\n",
              "      <td>0.001366</td>\n",
              "      <td>0.012987</td>\n",
              "      <td>0.002387</td>\n",
              "      <td>0.009740</td>\n",
              "      <td>0.002594</td>\n",
              "      <td>0.000961</td>\n",
              "      <td>0.001636</td>\n",
              "    </tr>\n",
              "  </tbody>\n",
              "</table>\n",
              "<p>1600 rows × 139 columns</p>\n",
              "</div>\n",
              "      <button class=\"colab-df-convert\" onclick=\"convertToInteractive('df-9854f72a-7080-4d3c-b407-0b33e7b41265')\"\n",
              "              title=\"Convert this dataframe to an interactive table.\"\n",
              "              style=\"display:none;\">\n",
              "        \n",
              "  <svg xmlns=\"http://www.w3.org/2000/svg\" height=\"24px\"viewBox=\"0 0 24 24\"\n",
              "       width=\"24px\">\n",
              "    <path d=\"M0 0h24v24H0V0z\" fill=\"none\"/>\n",
              "    <path d=\"M18.56 5.44l.94 2.06.94-2.06 2.06-.94-2.06-.94-.94-2.06-.94 2.06-2.06.94zm-11 1L8.5 8.5l.94-2.06 2.06-.94-2.06-.94L8.5 2.5l-.94 2.06-2.06.94zm10 10l.94 2.06.94-2.06 2.06-.94-2.06-.94-.94-2.06-.94 2.06-2.06.94z\"/><path d=\"M17.41 7.96l-1.37-1.37c-.4-.4-.92-.59-1.43-.59-.52 0-1.04.2-1.43.59L10.3 9.45l-7.72 7.72c-.78.78-.78 2.05 0 2.83L4 21.41c.39.39.9.59 1.41.59.51 0 1.02-.2 1.41-.59l7.78-7.78 2.81-2.81c.8-.78.8-2.07 0-2.86zM5.41 20L4 18.59l7.72-7.72 1.47 1.35L5.41 20z\"/>\n",
              "  </svg>\n",
              "      </button>\n",
              "      \n",
              "  <style>\n",
              "    .colab-df-container {\n",
              "      display:flex;\n",
              "      flex-wrap:wrap;\n",
              "      gap: 12px;\n",
              "    }\n",
              "\n",
              "    .colab-df-convert {\n",
              "      background-color: #E8F0FE;\n",
              "      border: none;\n",
              "      border-radius: 50%;\n",
              "      cursor: pointer;\n",
              "      display: none;\n",
              "      fill: #1967D2;\n",
              "      height: 32px;\n",
              "      padding: 0 0 0 0;\n",
              "      width: 32px;\n",
              "    }\n",
              "\n",
              "    .colab-df-convert:hover {\n",
              "      background-color: #E2EBFA;\n",
              "      box-shadow: 0px 1px 2px rgba(60, 64, 67, 0.3), 0px 1px 3px 1px rgba(60, 64, 67, 0.15);\n",
              "      fill: #174EA6;\n",
              "    }\n",
              "\n",
              "    [theme=dark] .colab-df-convert {\n",
              "      background-color: #3B4455;\n",
              "      fill: #D2E3FC;\n",
              "    }\n",
              "\n",
              "    [theme=dark] .colab-df-convert:hover {\n",
              "      background-color: #434B5C;\n",
              "      box-shadow: 0px 1px 3px 1px rgba(0, 0, 0, 0.15);\n",
              "      filter: drop-shadow(0px 1px 2px rgba(0, 0, 0, 0.3));\n",
              "      fill: #FFFFFF;\n",
              "    }\n",
              "  </style>\n",
              "\n",
              "      <script>\n",
              "        const buttonEl =\n",
              "          document.querySelector('#df-9854f72a-7080-4d3c-b407-0b33e7b41265 button.colab-df-convert');\n",
              "        buttonEl.style.display =\n",
              "          google.colab.kernel.accessAllowed ? 'block' : 'none';\n",
              "\n",
              "        async function convertToInteractive(key) {\n",
              "          const element = document.querySelector('#df-9854f72a-7080-4d3c-b407-0b33e7b41265');\n",
              "          const dataTable =\n",
              "            await google.colab.kernel.invokeFunction('convertToInteractive',\n",
              "                                                     [key], {});\n",
              "          if (!dataTable) return;\n",
              "\n",
              "          const docLinkHtml = 'Like what you see? Visit the ' +\n",
              "            '<a target=\"_blank\" href=https://colab.research.google.com/notebooks/data_table.ipynb>data table notebook</a>'\n",
              "            + ' to learn more about interactive tables.';\n",
              "          element.innerHTML = '';\n",
              "          dataTable['output_type'] = 'display_data';\n",
              "          await google.colab.output.renderOutput(dataTable, element);\n",
              "          const docLink = document.createElement('div');\n",
              "          docLink.innerHTML = docLinkHtml;\n",
              "          element.appendChild(docLink);\n",
              "        }\n",
              "      </script>\n",
              "    </div>\n",
              "  </div>\n",
              "  "
            ]
          },
          "metadata": {},
          "execution_count": 5
        }
      ]
    },
    {
      "cell_type": "markdown",
      "source": [
        "TASK-11A: Please use linear (PCA) and nonlinear (LLE, ISOMAP) dimensionality reduction methods using MR metrics to visualize the patients with their different CDRGLOB values/levels to understand whether there are visible patterns. Please first only use the first two dimensions in your visualizations. "
      ],
      "metadata": {
        "id": "K2uTEfLr8Ta7"
      }
    },
    {
      "cell_type": "code",
      "source": [
        "%matplotlib inline\n",
        "import numpy as np\n",
        "import matplotlib.pyplot as plt\n",
        "import seaborn as sns; sns.set()\n",
        "from sklearn.decomposition import PCA\n"
      ],
      "metadata": {
        "id": "Dnv1fGqv9EyU"
      },
      "execution_count": 6,
      "outputs": []
    },
    {
      "cell_type": "code",
      "source": [
        "X = data.iloc[:,15:]\n",
        "pca = PCA(2)  # project from 64 to 2 dimensions\n",
        "projected = pca.fit_transform(X)"
      ],
      "metadata": {
        "id": "f0mURjWs9t8l"
      },
      "execution_count": 7,
      "outputs": []
    },
    {
      "cell_type": "code",
      "source": [
        "y = data[\"CDRGLOB\"]\n",
        "y"
      ],
      "metadata": {
        "colab": {
          "base_uri": "https://localhost:8080/"
        },
        "id": "796FKq5F-ytF",
        "outputId": "128a6c99-d5cf-4cdf-affa-a9e952cacd54"
      },
      "execution_count": 8,
      "outputs": [
        {
          "output_type": "execute_result",
          "data": {
            "text/plain": [
              "0       0\n",
              "1       0\n",
              "2       0\n",
              "3       0\n",
              "4       0\n",
              "       ..\n",
              "1595    0\n",
              "1596    0\n",
              "1597    2\n",
              "1598    0\n",
              "1599    1\n",
              "Name: CDRGLOB, Length: 1600, dtype: int64"
            ]
          },
          "metadata": {},
          "execution_count": 8
        }
      ]
    },
    {
      "cell_type": "code",
      "source": [
        "plt.scatter(projected[:, 0], projected[:, 1], alpha=0.5, c=y)"
      ],
      "metadata": {
        "colab": {
          "base_uri": "https://localhost:8080/",
          "height": 285
        },
        "id": "wQBbX4rN9uMZ",
        "outputId": "60f908c4-f945-4fcd-bb3e-3e343888a934"
      },
      "execution_count": 9,
      "outputs": [
        {
          "output_type": "execute_result",
          "data": {
            "text/plain": [
              "<matplotlib.collections.PathCollection at 0x7f74daa55a00>"
            ]
          },
          "metadata": {},
          "execution_count": 9
        },
        {
          "output_type": "display_data",
          "data": {
            "text/plain": [
              "<Figure size 432x288 with 1 Axes>"
            ],
            "image/png": "[encoded data removed]"
          },
          "metadata": {}
        }
      ]
    },
    {
      "cell_type": "code",
      "source": [
        "pca_all = PCA().fit(X)\n",
        "plt.plot(np.cumsum(pca_all.explained_variance_ratio_))\n",
        "plt.xlabel('number of components')\n",
        "plt.ylabel('cumulative explained variance');"
      ],
      "metadata": {
        "colab": {
          "base_uri": "https://localhost:8080/",
          "height": 285
        },
        "id": "cVRIdEV2_Jb9",
        "outputId": "e130ea9c-58bb-4fd1-8a9c-1aa1a14f1793"
      },
      "execution_count": 10,
      "outputs": [
        {
          "output_type": "display_data",
          "data": {
            "text/plain": [
              "<Figure size 432x288 with 1 Axes>"
            ],
            "image/png": "[encoded data removed]"
          },
          "metadata": {}
        }
      ]
    },
    {
      "cell_type": "code",
      "source": [
        "pca_95 = PCA(7).fit(X)\n",
        "pca_95.n_components_ # 7 components"
      ],
      "metadata": {
        "colab": {
          "base_uri": "https://localhost:8080/"
        },
        "id": "5tV4c-N1E-gR",
        "outputId": "59c3a31c-39df-45c2-b856-b3e209dc8f40"
      },
      "execution_count": 11,
      "outputs": [
        {
          "output_type": "execute_result",
          "data": {
            "text/plain": [
              "7"
            ]
          },
          "metadata": {},
          "execution_count": 11
        }
      ]
    },
    {
      "cell_type": "code",
      "source": [
        "X_pca_95 = pca_95.transform(X)"
      ],
      "metadata": {
        "id": "s7EHsCvAFMJP"
      },
      "execution_count": 12,
      "outputs": []
    },
    {
      "cell_type": "code",
      "source": [
        "X_pca_95"
      ],
      "metadata": {
        "colab": {
          "base_uri": "https://localhost:8080/"
        },
        "id": "PHy5tPk9FY5F",
        "outputId": "23a2ff2e-192d-4f72-c95e-b7c0ad7e106d"
      },
      "execution_count": 13,
      "outputs": [
        {
          "output_type": "execute_result",
          "data": {
            "text/plain": [
              "array([[-1.94391228e-01,  1.36327203e-03, -2.27370750e-03, ...,\n",
              "        -5.77633178e-03,  3.37990068e-03, -1.02822114e-03],\n",
              "       [-1.73779258e-01, -1.90350462e-02, -7.27338518e-04, ...,\n",
              "        -6.43050559e-03, -9.67937195e-03, -7.65297195e-03],\n",
              "       [-1.69424773e-01, -1.57090348e-02,  2.28873684e-02, ...,\n",
              "        -8.45163342e-03,  1.54855636e-02, -7.26668791e-07],\n",
              "       ...,\n",
              "       [ 2.83525873e-01,  5.38269441e-02, -1.93595429e-02, ...,\n",
              "         3.98207840e-03, -1.32763829e-02,  1.24005527e-02],\n",
              "       [ 2.97353504e-01,  4.14549397e-02,  3.15654943e-02, ...,\n",
              "         2.12036870e-03, -3.01713170e-03,  2.91081879e-03],\n",
              "       [ 3.30268156e-01,  5.73000219e-02,  1.06740420e-02, ...,\n",
              "        -1.96780301e-02,  3.88621785e-04,  1.08676940e-02]])"
            ]
          },
          "metadata": {},
          "execution_count": 13
        }
      ]
    },
    {
      "cell_type": "code",
      "source": [
        "from sklearn.manifold import LocallyLinearEmbedding\n",
        "model = LocallyLinearEmbedding(n_neighbors=10, n_components=7, method='modified',\n",
        "                               eigen_solver='dense')\n",
        "LLE_out = model.fit_transform(X)"
      ],
      "metadata": {
        "id": "Ivk8WWchC93p"
      },
      "execution_count": 14,
      "outputs": []
    },
    {
      "cell_type": "code",
      "source": [
        "LLE_out"
      ],
      "metadata": {
        "colab": {
          "base_uri": "https://localhost:8080/"
        },
        "id": "FCIm7We1DOVN",
        "outputId": "daa3238c-39da-41a6-fee9-252c5f743df2"
      },
      "execution_count": 15,
      "outputs": [
        {
          "output_type": "execute_result",
          "data": {
            "text/plain": [
              "array([[-0.04164943, -0.02359942, -0.03586949, ...,  0.03290451,\n",
              "         0.06658073, -0.02955191],\n",
              "       [-0.0424528 , -0.00479562, -0.06008425, ...,  0.03557275,\n",
              "         0.09715532,  0.00242215],\n",
              "       [-0.03764981, -0.00833879, -0.04201455, ...,  0.01970713,\n",
              "         0.06114411,  0.01018281],\n",
              "       ...,\n",
              "       [ 0.07419177, -0.04182636, -0.10067059, ..., -0.03284117,\n",
              "        -0.05796338, -0.04144033],\n",
              "       [ 0.07912314, -0.03950594, -0.11475838, ..., -0.02778912,\n",
              "        -0.08822422, -0.02021638],\n",
              "       [ 0.0867643 , -0.04783988, -0.1321147 , ..., -0.03772957,\n",
              "        -0.09841132, -0.03483263]])"
            ]
          },
          "metadata": {},
          "execution_count": 15
        }
      ]
    },
    {
      "cell_type": "markdown",
      "source": [
        "TASK-11B: Please extract the critical dimensions to your new dataset. Do not forget that your main mission is to develop a predictive model that will be based on the extracted features to predict the CDRGLOB values indirectly. Indirectly means first we will try to predict the CDR metrics (MEM, JUD...) then we will use them to predict CDRGLOB values. "
      ],
      "metadata": {
        "id": "AcvybPsk9FE3"
      }
    },
    {
      "cell_type": "code",
      "source": [
        "from sklearn.linear_model import Ridge\n",
        "model = Ridge(alpha = 0.01)\n",
        "model.fit (X_pca_95, y)\n",
        "model.score(X_pca_95, y)\n",
        "y_new = model.predict(X_pca_95)\n",
        "y_new"
      ],
      "metadata": {
        "colab": {
          "base_uri": "https://localhost:8080/"
        },
        "id": "ZWOWc2XkEwZd",
        "outputId": "941ea14f-2d36-4f24-dd67-091894335f91"
      },
      "execution_count": 16,
      "outputs": [
        {
          "output_type": "execute_result",
          "data": {
            "text/plain": [
              "array([ 0.03988548,  0.17337389, -0.24146615, ...,  1.5860811 ,\n",
              "        1.09707689,  1.08278863])"
            ]
          },
          "metadata": {},
          "execution_count": 16
        }
      ]
    },
    {
      "cell_type": "code",
      "source": [
        "y_new = model.predict(X_pca_95)\n",
        "y_new"
      ],
      "metadata": {
        "colab": {
          "base_uri": "https://localhost:8080/"
        },
        "id": "ESQFS4b3Gfou",
        "outputId": "d43be0ea-1c97-4716-87d6-1cc9e4a06609"
      },
      "execution_count": 17,
      "outputs": [
        {
          "output_type": "execute_result",
          "data": {
            "text/plain": [
              "array([ 0.03988548,  0.17337389, -0.24146615, ...,  1.5860811 ,\n",
              "        1.09707689,  1.08278863])"
            ]
          },
          "metadata": {},
          "execution_count": 17
        }
      ]
    },
    {
      "cell_type": "code",
      "source": [
        "plt.scatter(y, y_new, c=y,alpha = 0.2)"
      ],
      "metadata": {
        "colab": {
          "base_uri": "https://localhost:8080/",
          "height": 285
        },
        "id": "sdkWAArcGsu4",
        "outputId": "8233ebf4-9849-409b-f2bc-d67a6ba1d129"
      },
      "execution_count": 18,
      "outputs": [
        {
          "output_type": "execute_result",
          "data": {
            "text/plain": [
              "<matplotlib.collections.PathCollection at 0x7f74d8975490>"
            ]
          },
          "metadata": {},
          "execution_count": 18
        },
        {
          "output_type": "display_data",
          "data": {
            "text/plain": [
              "<Figure size 432x288 with 1 Axes>"
            ],
            "image/png": "[encoded data removed]"
          },
          "metadata": {}
        }
      ]
    },
    {
      "cell_type": "code",
      "source": [
        "from sklearn.preprocessing import PolynomialFeatures\n",
        "poly = PolynomialFeatures(3, include_bias=False)\n",
        "X_pca_95_poly = poly.fit_transform(X_pca_95)"
      ],
      "metadata": {
        "id": "cIidSGmDHmti"
      },
      "execution_count": 19,
      "outputs": []
    },
    {
      "cell_type": "code",
      "source": [
        "from sklearn.linear_model import Ridge\n",
        "model = Ridge(alpha = 0.1)\n",
        "model.fit (X_pca_95_poly, y)\n",
        "model.score(X_pca_95_poly, y)"
      ],
      "metadata": {
        "colab": {
          "base_uri": "https://localhost:8080/"
        },
        "id": "YkAvseACH87d",
        "outputId": "3107a13a-172c-40a9-b9cb-f5aebf51a228"
      },
      "execution_count": 20,
      "outputs": [
        {
          "output_type": "execute_result",
          "data": {
            "text/plain": [
              "0.32714871487380137"
            ]
          },
          "metadata": {},
          "execution_count": 20
        }
      ]
    },
    {
      "cell_type": "code",
      "source": [
        "y_poly = model.predict(X_pca_95_poly)\n",
        "y_poly"
      ],
      "metadata": {
        "colab": {
          "base_uri": "https://localhost:8080/"
        },
        "id": "2e6xgIfIIoqe",
        "outputId": "405ba428-83ae-4b5c-8217-017af3286d64"
      },
      "execution_count": 21,
      "outputs": [
        {
          "output_type": "execute_result",
          "data": {
            "text/plain": [
              "array([-0.01999391,  0.03822541, -0.19756274, ...,  1.59769943,\n",
              "        1.11392413,  1.16522926])"
            ]
          },
          "metadata": {},
          "execution_count": 21
        }
      ]
    },
    {
      "cell_type": "code",
      "source": [
        "plt.scatter(y_new, y_poly, c= y, alpha=0.2)"
      ],
      "metadata": {
        "colab": {
          "base_uri": "https://localhost:8080/",
          "height": 285
        },
        "id": "ifAcnnOKI0ox",
        "outputId": "e54d4d41-2f9a-41a7-84d2-818e51205837"
      },
      "execution_count": 22,
      "outputs": [
        {
          "output_type": "execute_result",
          "data": {
            "text/plain": [
              "<matplotlib.collections.PathCollection at 0x7f74d8954160>"
            ]
          },
          "metadata": {},
          "execution_count": 22
        },
        {
          "output_type": "display_data",
          "data": {
            "text/plain": [
              "<Figure size 432x288 with 1 Axes>"
            ],
            "image/png": "[encoded data removed]"
          },
          "metadata": {}
        }
      ]
    },
    {
      "cell_type": "markdown",
      "source": [],
      "metadata": {
        "id": "eB7F4SLBEwxO"
      }
    },
    {
      "cell_type": "code",
      "source": [
        "from sklearn.model_selection import train_test_split\n",
        "X_train, X_test, y_train, y_test = train_test_split (X_pca_95, y_new, random_state=42)"
      ],
      "metadata": {
        "id": "Up4XUsxpEx27"
      },
      "execution_count": 23,
      "outputs": []
    },
    {
      "cell_type": "code",
      "source": [
        "from sklearn.linear_model import Ridge\n",
        "model = Ridge(alpha = 0.1)\n",
        "model.fit (X_train, y_train)\n",
        "model.score(X_test, y_test)"
      ],
      "metadata": {
        "colab": {
          "base_uri": "https://localhost:8080/"
        },
        "id": "1WQDQceN8EG2",
        "outputId": "85471516-4672-40b6-e793-a864d668cb65"
      },
      "execution_count": 24,
      "outputs": [
        {
          "output_type": "execute_result",
          "data": {
            "text/plain": [
              "0.9393373312420081"
            ]
          },
          "metadata": {},
          "execution_count": 24
        }
      ]
    },
    {
      "cell_type": "code",
      "source": [
        "X_pred = model.predict(X_train)\n",
        "model.score(X_train, y_train)"
      ],
      "metadata": {
        "colab": {
          "base_uri": "https://localhost:8080/"
        },
        "id": "09AE17GP8gAP",
        "outputId": "a60a0956-37d1-4307-da95-4a9d8162c4cb"
      },
      "execution_count": 25,
      "outputs": [
        {
          "output_type": "execute_result",
          "data": {
            "text/plain": [
              "0.9424483081667256"
            ]
          },
          "metadata": {},
          "execution_count": 25
        }
      ]
    },
    {
      "cell_type": "code",
      "source": [
        "y_orient = data[\"ORIENT\"]\n",
        "y_orient"
      ],
      "metadata": {
        "colab": {
          "base_uri": "https://localhost:8080/"
        },
        "id": "ijSyBTaq8ZAJ",
        "outputId": "76c973e9-7847-45d4-a6b2-74be8292b30b"
      },
      "execution_count": 26,
      "outputs": [
        {
          "output_type": "execute_result",
          "data": {
            "text/plain": [
              "0       0\n",
              "1       0\n",
              "2       0\n",
              "3       0\n",
              "4       0\n",
              "       ..\n",
              "1595    0\n",
              "1596    0\n",
              "1597    2\n",
              "1598    0\n",
              "1599    1\n",
              "Name: ORIENT, Length: 1600, dtype: int64"
            ]
          },
          "metadata": {},
          "execution_count": 26
        }
      ]
    },
    {
      "cell_type": "code",
      "source": [
        "from sklearn.linear_model import Ridge\n",
        "model = Ridge(alpha = 0.01)\n",
        "model.fit (X_pca_95, y_orient)\n",
        "model.score(X_pca_95, y_orient)\n",
        "y_new2 = model.predict(X_pca_95)\n",
        "y_new2"
      ],
      "metadata": {
        "colab": {
          "base_uri": "https://localhost:8080/"
        },
        "id": "YBX9DZJs-Nfa",
        "outputId": "f6b35ab4-7e1c-4f30-8b13-cc969d4e8987"
      },
      "execution_count": 27,
      "outputs": [
        {
          "output_type": "execute_result",
          "data": {
            "text/plain": [
              "array([-0.10202172,  0.07410108, -0.40376703, ...,  1.37144364,\n",
              "        0.93787422,  0.91189831])"
            ]
          },
          "metadata": {},
          "execution_count": 27
        }
      ]
    },
    {
      "cell_type": "code",
      "source": [
        "from sklearn.model_selection import train_test_split\n",
        "X_train, X_test, y_train, y_test = train_test_split (X_pca_95, y_new2, random_state=42)"
      ],
      "metadata": {
        "id": "JtW6IkEB99Dn"
      },
      "execution_count": 28,
      "outputs": []
    },
    {
      "cell_type": "code",
      "source": [
        "from sklearn.linear_model import Ridge\n",
        "model = Ridge(alpha = 0.1)\n",
        "model.fit (X_train, y_train)\n",
        "model.score(X_test, y_test)"
      ],
      "metadata": {
        "colab": {
          "base_uri": "https://localhost:8080/"
        },
        "id": "vUzBdFFJ-kOK",
        "outputId": "7bdf7c22-6349-40d7-f3a3-a4575f716a4c"
      },
      "execution_count": 29,
      "outputs": [
        {
          "output_type": "execute_result",
          "data": {
            "text/plain": [
              "0.9319123053357878"
            ]
          },
          "metadata": {},
          "execution_count": 29
        }
      ]
    },
    {
      "cell_type": "code",
      "source": [
        "X_pred = model.predict(X_train)\n",
        "model.score(X_train, y_train)"
      ],
      "metadata": {
        "colab": {
          "base_uri": "https://localhost:8080/"
        },
        "id": "gUNtFK66-rIT",
        "outputId": "d3c136fe-c885-487b-ea0b-70676b3aab53"
      },
      "execution_count": 30,
      "outputs": [
        {
          "output_type": "execute_result",
          "data": {
            "text/plain": [
              "0.9358635090438365"
            ]
          },
          "metadata": {},
          "execution_count": 30
        }
      ]
    },
    {
      "cell_type": "code",
      "source": [
        "y_cdr = data[\"CDRGLOB\"]\n",
        "y_cdr"
      ],
      "metadata": {
        "colab": {
          "base_uri": "https://localhost:8080/"
        },
        "id": "gEYyBXtw-8wT",
        "outputId": "0b06198d-f5e1-4c51-afb3-9837c95c831c"
      },
      "execution_count": 31,
      "outputs": [
        {
          "output_type": "execute_result",
          "data": {
            "text/plain": [
              "0       0\n",
              "1       0\n",
              "2       0\n",
              "3       0\n",
              "4       0\n",
              "       ..\n",
              "1595    0\n",
              "1596    0\n",
              "1597    2\n",
              "1598    0\n",
              "1599    1\n",
              "Name: CDRGLOB, Length: 1600, dtype: int64"
            ]
          },
          "metadata": {},
          "execution_count": 31
        }
      ]
    },
    {
      "cell_type": "code",
      "source": [
        "y_all_2 = np.array([y_new, y_new2])\n",
        "y_all_2"
      ],
      "metadata": {
        "colab": {
          "base_uri": "https://localhost:8080/"
        },
        "id": "tAqQx53_-vE_",
        "outputId": "c03e0d19-5c86-4c9d-e4c9-18528f96a1be"
      },
      "execution_count": 32,
      "outputs": [
        {
          "output_type": "execute_result",
          "data": {
            "text/plain": [
              "array([[ 0.03988548,  0.17337389, -0.24146615, ...,  1.5860811 ,\n",
              "         1.09707689,  1.08278863],\n",
              "       [-0.10202172,  0.07410108, -0.40376703, ...,  1.37144364,\n",
              "         0.93787422,  0.91189831]])"
            ]
          },
          "metadata": {},
          "execution_count": 32
        }
      ]
    },
    {
      "cell_type": "code",
      "source": [
        "y_all_2 = y_all_2.T"
      ],
      "metadata": {
        "id": "03UwmE0j-vQp"
      },
      "execution_count": 33,
      "outputs": []
    },
    {
      "cell_type": "code",
      "source": [
        "y_all_2"
      ],
      "metadata": {
        "colab": {
          "base_uri": "https://localhost:8080/"
        },
        "id": "ota87u8LB5eW",
        "outputId": "75edd81b-146c-45ca-815c-ca9d52eac41a"
      },
      "execution_count": 34,
      "outputs": [
        {
          "output_type": "execute_result",
          "data": {
            "text/plain": [
              "array([[ 0.03988548, -0.10202172],\n",
              "       [ 0.17337389,  0.07410108],\n",
              "       [-0.24146615, -0.40376703],\n",
              "       ...,\n",
              "       [ 1.5860811 ,  1.37144364],\n",
              "       [ 1.09707689,  0.93787422],\n",
              "       [ 1.08278863,  0.91189831]])"
            ]
          },
          "metadata": {},
          "execution_count": 34
        }
      ]
    },
    {
      "cell_type": "code",
      "source": [
        "a = data[[\"SEX\", \"INDEPEND\", \"NACCMMSE\"]].values\n",
        "a"
      ],
      "metadata": {
        "colab": {
          "base_uri": "https://localhost:8080/"
        },
        "id": "4A1bZ9r3BqXO",
        "outputId": "ae3be2fd-16ec-4377-e38b-33dc6d0f87c1"
      },
      "execution_count": 35,
      "outputs": [
        {
          "output_type": "execute_result",
          "data": {
            "text/plain": [
              "array([[ 2,  1, 26],\n",
              "       [ 2,  1, 29],\n",
              "       [ 2,  1, 26],\n",
              "       ...,\n",
              "       [ 1,  2, 26],\n",
              "       [ 2,  1, 26],\n",
              "       [ 2,  2, 27]])"
            ]
          },
          "metadata": {},
          "execution_count": 35
        }
      ]
    },
    {
      "cell_type": "code",
      "source": [
        "y_all_3 = np.column_stack([y_all_2,a, LLE_out ])"
      ],
      "metadata": {
        "id": "W3IBJT0qCGGt"
      },
      "execution_count": 36,
      "outputs": []
    },
    {
      "cell_type": "code",
      "source": [
        "y_all_3"
      ],
      "metadata": {
        "colab": {
          "base_uri": "https://localhost:8080/"
        },
        "id": "saFlHTIoCbID",
        "outputId": "bccfb959-9d72-4206-813e-ed4cfd5c6beb"
      },
      "execution_count": 37,
      "outputs": [
        {
          "output_type": "execute_result",
          "data": {
            "text/plain": [
              "array([[ 0.03988548, -0.10202172,  2.        , ...,  0.03290451,\n",
              "         0.06658073, -0.02955191],\n",
              "       [ 0.17337389,  0.07410108,  2.        , ...,  0.03557275,\n",
              "         0.09715532,  0.00242215],\n",
              "       [-0.24146615, -0.40376703,  2.        , ...,  0.01970713,\n",
              "         0.06114411,  0.01018281],\n",
              "       ...,\n",
              "       [ 1.5860811 ,  1.37144364,  1.        , ..., -0.03284117,\n",
              "        -0.05796338, -0.04144033],\n",
              "       [ 1.09707689,  0.93787422,  2.        , ..., -0.02778912,\n",
              "        -0.08822422, -0.02021638],\n",
              "       [ 1.08278863,  0.91189831,  2.        , ..., -0.03772957,\n",
              "        -0.09841132, -0.03483263]])"
            ]
          },
          "metadata": {},
          "execution_count": 37
        }
      ]
    },
    {
      "cell_type": "code",
      "source": [
        "y_cdr2 = pd.DataFrame(y_cdr,dtype=str)"
      ],
      "metadata": {
        "id": "32AY5iZ9AAdq"
      },
      "execution_count": 38,
      "outputs": []
    },
    {
      "cell_type": "code",
      "source": [
        "from sklearn.model_selection import train_test_split\n",
        "X_train, X_test, y_train, y_test = train_test_split (y_all_3, y_cdr2, stratify=y_cdr2, random_state=42)"
      ],
      "metadata": {
        "id": "TVh_9utz-vXA"
      },
      "execution_count": 39,
      "outputs": []
    },
    {
      "cell_type": "code",
      "source": [
        "from sklearn.ensemble import RandomForestClassifier\n",
        "model = RandomForestClassifier(n_estimators=1000, random_state=0, max_depth=5)\n",
        "model.fit (X_train, y_train)\n",
        "model.score(X_test, y_test)"
      ],
      "metadata": {
        "colab": {
          "base_uri": "https://localhost:8080/"
        },
        "id": "BoJ8Gobu__CO",
        "outputId": "4915af9b-8d7c-4661-c294-c12984d1701c"
      },
      "execution_count": 40,
      "outputs": [
        {
          "output_type": "stream",
          "name": "stderr",
          "text": [
            "<ipython-input-40-f2a9483ed937>:3: DataConversionWarning: A column-vector y was passed when a 1d array was expected. Please change the shape of y to (n_samples,), for example using ravel().\n",
            "  model.fit (X_train, y_train)\n"
          ]
        },
        {
          "output_type": "execute_result",
          "data": {
            "text/plain": [
              "0.715"
            ]
          },
          "metadata": {},
          "execution_count": 40
        }
      ]
    },
    {
      "cell_type": "code",
      "source": [
        "X_pred = model.predict(X_train)\n",
        "model.score(X_train, y_train)"
      ],
      "metadata": {
        "colab": {
          "base_uri": "https://localhost:8080/"
        },
        "id": "lytlxUMaBMUZ",
        "outputId": "b3b61ef5-0bd7-4f33-e591-dd63a81103d5"
      },
      "execution_count": 41,
      "outputs": [
        {
          "output_type": "execute_result",
          "data": {
            "text/plain": [
              "0.7991666666666667"
            ]
          },
          "metadata": {},
          "execution_count": 41
        }
      ]
    },
    {
      "cell_type": "code",
      "source": [
        "ypred = model.predict(X_test)\n",
        "from sklearn import metrics\n",
        "print(metrics.classification_report(ypred, y_test))"
      ],
      "metadata": {
        "colab": {
          "base_uri": "https://localhost:8080/"
        },
        "id": "uM6FALEYA7KF",
        "outputId": "389da953-2e96-4b9a-eeed-ae51e1576d16"
      },
      "execution_count": 42,
      "outputs": [
        {
          "output_type": "stream",
          "name": "stdout",
          "text": [
            "              precision    recall  f1-score   support\n",
            "\n",
            "           0       0.95      0.78      0.86       305\n",
            "           1       0.36      0.49      0.42        77\n",
            "           2       0.16      0.38      0.22        13\n",
            "           3       0.40      0.80      0.53         5\n",
            "\n",
            "    accuracy                           0.71       400\n",
            "   macro avg       0.47      0.62      0.51       400\n",
            "weighted avg       0.80      0.71      0.75       400\n",
            "\n"
          ]
        }
      ]
    },
    {
      "cell_type": "code",
      "source": [
        "from sklearn.naive_bayes import GaussianNB\n",
        "model = GaussianNB()\n",
        "model.fit (X_train, y_train)\n",
        "model.score(X_test, y_test)"
      ],
      "metadata": {
        "colab": {
          "base_uri": "https://localhost:8080/"
        },
        "id": "SZ0MjI5d-veL",
        "outputId": "dea263e0-9aa3-49a4-c2d6-43799a18625a"
      },
      "execution_count": 43,
      "outputs": [
        {
          "output_type": "stream",
          "name": "stderr",
          "text": [
            "/usr/local/lib/python3.8/dist-packages/sklearn/utils/validation.py:993: DataConversionWarning: A column-vector y was passed when a 1d array was expected. Please change the shape of y to (n_samples, ), for example using ravel().\n",
            "  y = column_or_1d(y, warn=True)\n"
          ]
        },
        {
          "output_type": "execute_result",
          "data": {
            "text/plain": [
              "0.745"
            ]
          },
          "metadata": {},
          "execution_count": 43
        }
      ]
    }
  ]
}