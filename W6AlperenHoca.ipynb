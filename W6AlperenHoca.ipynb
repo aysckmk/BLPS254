{
  "nbformat": 4,
  "nbformat_minor": 0,
  "metadata": {
    "colab": {
      "provenance": [],
      "authorship_tag": "ABX9TyOsfat48g9xOUKrWRhrvnw5",
      "include_colab_link": true
    },
    "kernelspec": {
      "name": "python3",
      "display_name": "Python 3"
    },
    "language_info": {
      "name": "python"
    }
  },
  "cells": [
    {
      "cell_type": "markdown",
      "metadata": {
        "id": "view-in-github",
        "colab_type": "text"
      },
      "source": [
        "<a href=\"https://colab.research.google.com/github/aysckmk/BLPS254/blob/main/W6AlperenHoca.ipynb\" target=\"_parent\"><img src=\"https://colab.research.google.com/assets/colab-badge.svg\" alt=\"Open In Colab\"/></a>"
      ]
    },
    {
      "cell_type": "markdown",
      "source": [
        "Ödev 1)Json ve dictionary arasındaki fark nedir? Dumps Ne işe yarıyor? Neden encode kullandık? Neden kodu data.encode.utf-8nşeklinde kullanmadık?\n",
        "\n",
        "Ödev2)Json dumps nedir Json load nedir Json loads nedir?\n",
        "\n",
        "Ödev3)Dockera girdikten sonra spesific bir container hangi networkta çalışıyor ve default ip nasıl bulunucak? Bir satırlık kod olarak yazılcak.\n",
        "\n",
        "Ödev4)Kod json.dumps değil de json.dump ile deneyerek yapılcak.\n",
        "\n",
        "Ödev5)Neden UTF-8 kullanıyoruz?\n",
        "\n",
        "Ödev6)192.168.0.1 nedir ve 127.00.01 arasındaki fark nedir?"
      ],
      "metadata": {
        "id": "5IP46ycLuuwG"
      }
    },
    {
      "cell_type": "markdown",
      "source": [
        "\n",
        "\n",
        "1.  Json ve Dictionary\n",
        " \n",
        "*  Dictionary Pyhton'a özel bir veri yapısıdır fakat Json ise platform ve dilden bağımsız bir biçimde sistemler arası veriyi aktarmanın bir yoludur.  \n",
        "*   Json veri yapısı özelliğinden yoksun saf bir dizedir ancak dictionary karma nesneler içerebilir.\n",
        "*    Python’da dictionary’de tek tırnak kullanılırken, Json’da çift tırnak kullanılır.\n",
        "*  Json’da keyler tekrarlanabilirken, dictionary’de tekrarlanamaz. Dictionary'de nesne döndürülürken, json 'da string döndürülür.\n",
        "\n",
        "\n",
        "\n",
        "\n",
        "\n"
      ],
      "metadata": {
        "id": "njNbxVqmvDM0"
      }
    },
    {
      "cell_type": "markdown",
      "source": [
        "**- Dumps ne işe yarar**\n",
        "\n",
        "   Dumps Python'daki veri tiplerini Json formatına çevirirken yararlandığımız bir fonksiyondur.\n"
      ],
      "metadata": {
        "id": "84a4GnpSvax-"
      }
    },
    {
      "cell_type": "markdown",
      "source": [
        "**Encode - UTF-8 Farkı**\n",
        "\n",
        "Encode UTF-8'den daha hızlı işlem yapar böylelikle daha kolay depolama sağlar. Bu nedenle tercih sebebidir."
      ],
      "metadata": {
        "id": "K0RX3kosxGYW"
      }
    },
    {
      "cell_type": "markdown",
      "source": [
        "\n",
        "2.  Json Load, Json Loads\n",
        "\n",
        "Bu iki fonksiyon da dump ve dumps gibi birbirine çok benziyor. Hatta farkları bile neredeyse aynı. Load fonksiyonu sadece dosyadaki JSON verilerini Python verisine çevirirken Loads fonksiyonu veriyi parametre olarak alıyor. \n",
        "\n",
        "Örnek:\n",
        "\n",
        "json.loads('{\"mezuniyet\": \"üniversite\", \"Bölüm\": \"Tıp\"}')\n",
        "{'mezuniyet': 'üniversite', 'Bölüm': 'Tıp'}\n",
        "json.loads('[\"\\\\u00fcz\\\\u00fcm\"]')\n",
        "['üzüm']"
      ],
      "metadata": {
        "id": "UkE6POlwyY6W"
      }
    },
    {
      "cell_type": "markdown",
      "source": [
        "\n",
        "\n",
        "3. DOCKER\n",
        "\n",
        "Bridge network üzerinden çalışmaktadır. Powershell arayüzünde docker network inspect bridge komutu ile hangi networkte çalıştığını öğrenebiliriz.\n",
        "\n",
        " \n",
        "\n",
        "```\n",
        "# docker inspect -f “{{range.NetworkSettings.Networks}}{{.IPAddress}}{{end}}” ContainerID\n",
        "```\n",
        "\n"
      ],
      "metadata": {
        "id": "Luqut8epzBSf"
      }
    },
    {
      "cell_type": "markdown",
      "source": [
        "\n",
        "\n",
        "4. Dumps - Dump\n",
        "\n",
        "\n",
        "\n",
        "```\n",
        "#     producer.send( OREDER_KAFKA_TOPİC, with open(\"sample.json\", \"w\") as outfile: json.dump(data, outfile) f = open(\"demofile.txt\", \"r\") f.read() )\n",
        "\n",
        "```\n",
        "\n",
        "\n"
      ],
      "metadata": {
        "id": "U4nvfazYzhmy"
      }
    },
    {
      "cell_type": "markdown",
      "source": [
        "\n",
        "5. Neden UTF-8\n",
        "\n",
        "\n",
        "*  Geriye doğru uyumluluk\n",
        "* Çok baytlı ve tek baytlı karakterler arasındaki açık ayrım \n",
        "* Kendini eş zamanlama \n",
        "* Kodlanmış bayt dizilerinin uzunluklarının açıkça belirtiliyor olması\n",
        "* Değişken kod uzunluğu\n",
        "* Dünya dillerini kapsıyor oluşu  \n"
      ],
      "metadata": {
        "id": "5OG8E4AozrBv"
      }
    },
    {
      "cell_type": "markdown",
      "source": [
        "\n",
        "\n",
        "6. 127.0.0.1  - 192.168.0.1 \n",
        "\n",
        "\n",
        "\n",
        "\n",
        "\n",
        "\n",
        "* 192.168.0.1 yerel bir IP adresidir, genelde modem veya router arayüzüne ulaşmak için bu IP adresi kullanılır.\n",
        "* 127.00.01 bilgisayarlardaki ev ağı olan yerel ana bilgisayardır. Temel olarak, tüm ağ testleriniz ve PHP/HTML kodlamanız ve dolayısıyla ifadeleriniz için ev sahipliği yapmaktadır. \n",
        "\n",
        "\n"
      ],
      "metadata": {
        "id": "p6GQdoES1ajq"
      }
    }
  ]
}