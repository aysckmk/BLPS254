{
  "nbformat": 4,
  "nbformat_minor": 0,
  "metadata": {
    "colab": {
      "provenance": [],
      "authorship_tag": "ABX9TyOf8Zh0PjEgsPD5pWe09JMe",
      "include_colab_link": true
    },
    "kernelspec": {
      "name": "python3",
      "display_name": "Python 3"
    },
    "language_info": {
      "name": "python"
    }
  },
  "cells": [
    {
      "cell_type": "markdown",
      "metadata": {
        "id": "view-in-github",
        "colab_type": "text"
      },
      "source": [
        "<a href=\"https://colab.research.google.com/github/aysckmk/BLPS254/blob/main/Task-W1-3A.ipynb\" target=\"_parent\"><img src=\"https://colab.research.google.com/assets/colab-badge.svg\" alt=\"Open In Colab\"/></a>"
      ]
    },
    {
      "cell_type": "code",
      "execution_count": 9,
      "metadata": {
        "colab": {
          "base_uri": "https://localhost:8080/"
        },
        "id": "zy6wEEEQ2T_T",
        "outputId": "543f6a75-3a5a-4e85-943c-f16e525d58bd"
      },
      "outputs": [
        {
          "output_type": "execute_result",
          "data": {
            "text/plain": [
              "array([[ 4,  8, 40,  9, 23,  9],\n",
              "       [37, 15, 49,  9, 40, 44],\n",
              "       [48, 29, 38, 37, 23, 15],\n",
              "       [23,  9, 15, 32,  2, 35],\n",
              "       [ 7,  3, 25, 38, 17, 14],\n",
              "       [ 4, 42, 17, 49, 31, 16],\n",
              "       [ 7,  3, 30, 49,  1,  8],\n",
              "       [48,  6, 36, 17, 11, 32]])"
            ]
          },
          "metadata": {},
          "execution_count": 9
        }
      ],
      "source": [
        "import numpy as np\n",
        "s_loto=np.random.randint(1,50, size=(8,6))\n",
        "s_loto"
      ]
    }
  ]
}