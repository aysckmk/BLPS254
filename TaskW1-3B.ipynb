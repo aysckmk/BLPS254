{
  "nbformat": 4,
  "nbformat_minor": 0,
  "metadata": {
    "colab": {
      "provenance": [],
      "collapsed_sections": [],
      "authorship_tag": "ABX9TyPCXid0EC4W5Hefkxjkljhg",
      "include_colab_link": true
    },
    "kernelspec": {
      "name": "python3",
      "display_name": "Python 3"
    },
    "language_info": {
      "name": "python"
    }
  },
  "cells": [
    {
      "cell_type": "markdown",
      "metadata": {
        "id": "view-in-github",
        "colab_type": "text"
      },
      "source": [
        "<a href=\"https://colab.research.google.com/github/aysckmk/BLPS254/blob/main/TaskW1-3B.ipynb\" target=\"_parent\"><img src=\"https://colab.research.google.com/assets/colab-badge.svg\" alt=\"Open In Colab\"/></a>"
      ]
    },
    {
      "cell_type": "code",
      "execution_count": 3,
      "metadata": {
        "colab": {
          "base_uri": "https://localhost:8080/"
        },
        "id": "u52RxDay3z6l",
        "outputId": "89d6bfff-9cc7-4585-8d14-1c30d87ec559"
      },
      "outputs": [
        {
          "output_type": "stream",
          "name": "stdout",
          "text": [
            "En Uzun Boylu Başkanın Boyu: 163\n",
            "En Kısa Boylu Başkanın Boyu: 193\n",
            "En Uzun Boylu Başkanın İsmi : Abraham Lincoln\n",
            "En Kısa Boylu Başkanın İsmi : James Madison\n",
            "En Uzun Boylu Başkanın Sıralaması : 16\n",
            "En Kısa Boylu Başkanın Sıralaması : 4\n"
          ]
        }
      ],
      "source": [
        "import pandas as pd\n",
        "data=pd.read_csv('baskanboy.csv')\n",
        "heights = pd.array(data['height(cm)'])\n",
        "name=pd.array(data['name'])\n",
        "orden=pd.array(data['order'])\n",
        "print(\"En Uzun Boylu Başkanın Boyu:\", heights.min())\n",
        "print(\"En Kısa Boylu Başkanın Boyu:\", heights.max())\n",
        "print(\"En Uzun Boylu Başkanın İsmi :\", data[\"name\"][heights.argmax()])\n",
        "print(\"En Kısa Boylu Başkanın İsmi :\", data[\"name\"][heights.argmin()])\n",
        "print(\"En Uzun Boylu Başkanın Sıralaması :\", data[\"order\"][heights.argmax()])\n",
        "print(\"En Kısa Boylu Başkanın Sıralaması :\", data[\"order\"][heights.argmin()])"
      ]
    }
  ]
}