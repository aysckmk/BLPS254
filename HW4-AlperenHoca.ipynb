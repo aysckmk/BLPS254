{
  "nbformat": 4,
  "nbformat_minor": 0,
  "metadata": {
    "colab": {
      "provenance": [],
      "authorship_tag": "ABX9TyNKJWLBlIPXt69vk693yii0",
      "include_colab_link": true
    },
    "kernelspec": {
      "name": "python3",
      "display_name": "Python 3"
    },
    "language_info": {
      "name": "python"
    }
  },
  "cells": [
    {
      "cell_type": "markdown",
      "metadata": {
        "id": "view-in-github",
        "colab_type": "text"
      },
      "source": [
        "<a href=\"https://colab.research.google.com/github/aysckmk/BLPS254/blob/main/HW4-AlperenHoca.ipynb\" target=\"_parent\"><img src=\"https://colab.research.google.com/assets/colab-badge.svg\" alt=\"Open In Colab\"/></a>"
      ]
    },
    {
      "cell_type": "markdown",
      "source": [
        "\n",
        "\n",
        "1.   Yumurta Problemi\n",
        "\n",
        "İlk yumurtamızı n. kattan bıraktığımızı düşünün, eğer kırılırsa, önceki (n-1) katı teker teker çıkabiliriz.\n",
        "\n",
        "Eğer kırılmazsa, n kat daha atlamak yerine sadece (n-1) kat çıkmalıyız (çünkü tek tek katlara geçmek zorunda kalırsak bir kat daha eksiliriz), bu yüzden denememiz gereken bir sonraki kat n + (n-1) katıdır.\n",
        "\n",
        "Benzer şekilde, bu düşüş kırılmazsa, bir sonraki aşamada n + (n-1) + (n-2) katına, ardından n + (n-1) + (n-2) + (n-3) ... katına atlamamız gerekir.\n",
        "\n",
        "Her bir kat atladığımızda, bu adım sadece bir kat olana kadar adımı bir azaltmaya devam ediyoruz ve 100 katlı bir bina için aşağıdaki denklemi elde ediyoruz:\n",
        "\n",
        "n + (n-1) + (n-2) + (n-3) + (n-4) + ... + 1 >= 100\n",
        "\n",
        "Bu toplama, birçok kişinin fark edeceği gibi, üçgen sayılar için formüldür (ki bu mantıklıdır, çünkü yaptığımız her düşüşte adımı bir azaltıyoruz) ve şu şekilde basitleştirilebilir:\n",
        "\n",
        "n (n+1) / 2 >= 100\n",
        "\n",
        "Bu ikinci dereceden bir denklemdir ve pozitif kökü 13,651'dir (Bunu 14'e yuvarlamamız gerekiyor. )\n",
        "İlk düşüşümüz 14. kattan olmalı, eğer yumurta hayatta kalırsa 13 kat yukarı çıkıp 27. kata, sonra 12 kat yukarı çıkıp 39...\n",
        "\n",
        "En uygun strateji, ilk yumurta kırılana kadar tablo boyunca ilerlemek, ardından yukarıdaki çizgiden bir kat daha yukarı çıkmak ve kesin çözümü bulana kadar kat kat ilerlemektir.\n"
      ],
      "metadata": {
        "id": "HiC-A49T8rPn"
      }
    },
    {
      "cell_type": "markdown",
      "source": [
        "\n",
        "2. Görüntü İşleme Aşamaları\n",
        "\n",
        "\n",
        "*  Elde Etme: Görüntü işlemedeki ilk adım, sayısal görüntünün sayısal kamera ile elde etme işlemidir. \n",
        "\n",
        "* Ön İşleme: Sayısal resim elde edildikten sonraki aşama ise ön-işleme'dir. Ön-işleme, elde edilen sayısal görüntüyü kullanmadan önce daha başarılı bir sonuç elde edebilmek amacıyla görüntünün bazı ön işlemlerden geçirilmesidir. Bu işlemler temel olarak;\n",
        "\n",
        "-görüntü iyileştirme (image enhancement)\n",
        "\n",
        "-görüntü onarma (image restoration) ve\n",
        "\n",
        "-görüntü sıkıştırma (image compression) \n",
        "\n",
        "* Bölümleme: Ön-işlemeden sonra bölümleme (bölütleme, parçalara ayırma, segmentasyon denir) aşamasına geçilir. Bölümleme, görüntü işlemenin en zor uygulaması olup bir görüntüdeki nesne ve arka planın veya\n",
        "görüntü içerisindeki ilgilenilen değişik özelliklere sahip bölgelerin birbirinden ayrıştırılması işlemidir.\n",
        "* Çıkarım: Görüntüden elde edilen ham bilgilerin, ilgilenilen ayrıntıların ön plana çıkarılmasıdır. Yani aranan\n",
        "özellikli alanların arka plandan ve birbirinden ayrıştırılmasıdır.  \n",
        "\n",
        "*  Yorumlama: Yüksek seviyeli görüntü işleme grubuna giren bu aşamada, çeşitli karar verme mekanizmaları (yapay zeka algoritmaları gibi) ile görüntüdeki arka plandan çıkarılmış nesnelerin veya bölgelerin etiketlendirilmesi, sınıflandırılması yapılır. \n",
        "\n",
        "\n"
      ],
      "metadata": {
        "id": "5AjozVS58rSv"
      }
    },
    {
      "cell_type": "markdown",
      "source": [
        "\n",
        "\n",
        "3. Feature map veya bir sonraki layerın boyutlarını belirleyen özellikler nelerdir?\n",
        "\n",
        "\n",
        "\n",
        "\n",
        "*  En temel blok Convolution katmanıdır. Convolution, iki kümenin birleştirilmesini sağlayan matematiksel işlemdir. Convolution filter (kernel), girişe uygulanarak özellik haritası (feature map) oluşturulur. Liste öğesi\n",
        "* Stride, her adımda convolution filtresinin hareket adım boyutunu belirler.\n",
        "* Padding, giriş ile aynı boyutta özellik haritası oluşturmak için kullanılır.\n",
        "* Pooling katmanı, bir alt örnekleme işlemi gerçekleştirir. Pooling, convolution işleminden sonra uygulanır ve boyut indirgeme yapar. Pooling katmanı, özellik haritasının yüksekliğini ve genişliğini düşürerek örnekler (derinlik aynı kalır).\n",
        "* Fully-connected katmanı üç boyutlu girişi tek boyuta indirgeyerek alır ve bir sınıf etiketi elde eder. \n",
        "* Softmax katmanı çıkış sınıflarının olasılık dağılımını hesaplar.\n",
        "\n",
        "\n",
        "\n",
        "\n"
      ],
      "metadata": {
        "id": "hjjwzdnK9rZA"
      }
    },
    {
      "cell_type": "markdown",
      "source": [
        "\n",
        "\n",
        "4. Softmax nedir? Ne işe yarar?\n",
        "\n",
        "Çoklu sınıflandırma problemleri için kullanılan bu fonksiyon, verilen her bir girdinin bir sınıfa ait olma olasılığını gösteren [0,1] arası çıktılar üretmektedir.Softmax fonksiyonu sınıflandırma problemlerinde kullanılır. Softmax katmanı çıkış sınıflarının olasılık dağılımını hesaplar. Softmax, çıkışın sınıflara ait olma olasılığının dağılımını verir. Genellikle çıkış neuron sayısı sınıf etiketi sayısı kadar alınır. Yüksek olasılığa sahip sınıf etiketi verilen girişler için atanır."
      ],
      "metadata": {
        "id": "NA1smO8k-lA4"
      }
    },
    {
      "cell_type": "markdown",
      "source": [
        "\n",
        "\n",
        "5. Aktivasyon fonskiyonlarının kullanım amaçları nedir? 3 adet örnek veriniz. Amaçlarını açıklayınız. Şekillerini çiziniz.\n",
        "\n",
        "Yapay sinir ağlarına doğrusal olmayan gerçek dünya özelliklerini tanıtmak için aktivasyon fonksiyonuna ihtiyaç duyarız. Temel olarak basit bir yapay sinir ağında x girdiler, w ağırlıklar olarak tanımlanır ve ağın çıkışına aktarılan değere f(x) yani aktivasyon işlemi uygularız. Daha sonra bu, nihai çıkış ya da bir başka katmanın girişi olacaktır.\n",
        "Çıkışa Aktarılacak Bu Sinyali Neden Aktive Etmeden Yapamıyoruz?\n",
        "Eğer aktivasyon fonksiyonu uygulanmazsa çıkış sinyali basit bir doğrusal fonksiyon olur. Doğrusal fonksiyonlar yalnızca tek dereceli polinomlardır. Aktivasyon fonksiyonu kullanılmayan bir sinir ağı sınırlı öğrenme gücüne sahip bir doğrusal bağlanım (linear regression) gibi davranacaktır. Ama biz sinir ağımızın doğrusal olmayan durumları da öğrenmesini istiyoruz. Çünkü sinir ağımıza öğrenmesi için görüntü, video, yazı ve ses gibi karmaşık gerçek dünya bilgileri vereceğiz. Çok katmanlı derin sinir ağları bu sayede verilerden anlamlı özellikleri öğrenebilir.\n"
      ],
      "metadata": {
        "id": "5sO-G1kD_PrY"
      }
    },
    {
      "cell_type": "code",
      "source": [
        "import math\n",
        "import matplotlib.pyplot as plt\n",
        "import numpy as np\n",
        "\n",
        "# Aktivasyon fonksiyonlarının tanımlamalarının matematiksel olarak yapılması\n",
        "# Sigmoid Fonksiyonu\n",
        "def sigmoid(x):\n",
        "    a = []\n",
        "    for i in x:\n",
        "        a.append(1/(1+math.exp(-i)))\n",
        "    return a\n",
        "# Hiperbolik Tanjant Fonksiyonu\n",
        "def tanh(x, derivative=False):\n",
        "    if (derivative == True):\n",
        "        return (1 - (x ** 2))\n",
        "    return np.tanh(x)\n",
        "# ReLU Fonksiyonu\n",
        "def re(x):\n",
        "    b = []\n",
        "    for i in x:\n",
        "        if i<0:\n",
        "            b.append(0)\n",
        "        else:\n",
        "            b.append(i)\n",
        "    return b\n",
        "# Leaky ReLU Fonksiyonu\n",
        "def lr(x):\n",
        "    b = []\n",
        "    for i in x:\n",
        "        if i<0:\n",
        "            b.append(i/10)\n",
        "        else:\n",
        "            b.append(i)\n",
        "    return b\n",
        "  \n",
        "# Grafik için oluşturulacak aralıkların belirlenmesi\n",
        "x = np.arange(-3., 3., 0.1)\n",
        "sig = sigmoid(x)\n",
        "tanh = tanh(x)\n",
        "relu = re(x)\n",
        "leaky_relu = lr(x)\n",
        "swish = sig*x\n",
        "\n",
        "#Fonksiyonların ekrana çizilmesi ve gösterilmesi\n",
        "line_1, = plt.plot(x,sig, label='Sigmoid')\n",
        "line_2, = plt.plot(x,tanh, label='Tanh')\n",
        "line_3, = plt.plot(x,relu, label='ReLU')\n",
        "line_4, = plt.plot(x,leaky_relu, label='Leaky ReLU')\n",
        "line_5, = plt.plot(x,swish, label='Swish')\n",
        "plt.legend(handles=[line_1, line_2, line_3, line_4, line_5])\n",
        "plt.axhline(y=0, color='k')\n",
        "plt.axvline(x=0, color='k')\n",
        "plt.show()"
      ],
      "metadata": {
        "colab": {
          "base_uri": "https://localhost:8080/",
          "height": 265
        },
        "id": "Q9qQPpJL_4w8",
        "outputId": "af8963b2-0a5b-49bb-f008-73ee96e94af1"
      },
      "execution_count": 1,
      "outputs": [
        {
          "output_type": "display_data",
          "data": {
            "text/plain": [
              "<Figure size 432x288 with 1 Axes>"
            ],
            "image/png": "[encoded data removed]"
          },
          "metadata": {
            "needs_background": "light"
          }
        }
      ]
    },
    {
      "cell_type": "markdown",
      "source": [
        "\n",
        "\n",
        "* ReLU Fonksiyonu: Doğrultulmuş lineer birim (rectified linear unit- RELU) doğrusal olmayan bir fonksiyondur. ReLU fonksiyonu negatif girdiler için 0 değerini alırken, x pozitif girdiler için x değerini almaktadır. \n",
        "\n",
        "*  \n",
        "Swish Fonksiyonu:  Google araştırmacıları tarafından yeni keşfedilen bu fonksiyon girdiler ile sigmoid fonksiyonunun çarpımını çıktı olarak üretmektedir. \n",
        "*  \n",
        "Sigmoid Fonksiyonu: En yaygın kullanılan aktivasyon fonksiyonlarından birisidir, [0,1] aralığında çıktı üretir.\n"
      ],
      "metadata": {
        "id": "DwHvbKO3_-Os"
      }
    },
    {
      "cell_type": "markdown",
      "source": [
        "\n",
        "6. 32,32 lik image oldğunu düşünelim 2,2 like Max pooling sonucunda çıktı hangi boyutta olur?\n",
        "\n",
        "\n",
        "\n",
        "*  Stride değeri default olarak 1 gelir. ((32-2)/1)+1=31, bu yüzden 31x31 image elde ederiz.\n",
        "\n",
        "\n",
        ">6. soruya ek olarak eğer bu işlemler esnasında stride=2 olursa çıktı boyutu nasıl olur?\n",
        "\n",
        "* Stride değeri 2 olursa ((32-2)/2)+1=16 yani 16x16-lık bir image elde ederiz.\n"
      ],
      "metadata": {
        "id": "omABeQW-AuSw"
      }
    },
    {
      "cell_type": "markdown",
      "source": [
        "7.  Droupout'un amacı nedir?\n",
        "\n",
        "* Dropout, eğitim süresi boyunca her adımda bir hız frekansıyla giriş birimlerini rasgele 0'a ayarlar ve bu da overfittingi önlemeye yardımcı olur.\n",
        "\n"
      ],
      "metadata": {
        "id": "bSghWsqFA47P"
      }
    },
    {
      "cell_type": "markdown",
      "source": [
        "8. Görüntü işleme yöntemleri için kullanılan 3 adet framework belirtiniz.\n",
        "\n",
        "* OpenCV\n",
        "* MatLab\n",
        "* Emgu CV"
      ],
      "metadata": {
        "id": "b8tpFBW2BMrr"
      }
    },
    {
      "cell_type": "markdown",
      "source": [
        "9. Niçin imajlar için ANN yerine CNN kullanıyoruz?\n",
        "\n",
        "ANN, veriyi ölçeklendirme işleminde yetersiz olduğu için görüntü sınıflandırma problemleri zorlaşır çünkü 2 boyutlu görüntülerin 1 boyutlu vektörlere dönüştürülmesi gerekir. CNN ile veriye oldukça farklı işlemler uygulayabilip veriden çok farklı ve anlamlı özellikler elde edebiliyoruz. CNN'in en büyük avantajı, önemli özellikleri herhangi bir insan gözetimi olmadan otomatik olarak algılamasıdır. Bu nedenle CNN, bilgisayarla görme ve görüntü sınıflandırma sorunlarına ideal bir çözüm olacaktır."
      ],
      "metadata": {
        "id": "NpR2dpjpBtoc"
      }
    },
    {
      "cell_type": "markdown",
      "source": [
        "10. CNN ağları için dimension reduction mümkünmüdür? Mümkünse nasıl ve hangi katmanlarda uygulanabilir?\n",
        "\n",
        "Dimension reduction işlemini Pooling katmanı ile mümkün kılarız.Pooling Layer, CovNet’teki ardışık convolutional katmanları arasına sıklıkla eklenen bir katmandır. Bu katmanın görevi, gösterimin kayma boyutunu ve ağ içindeki parametreleri ve hesaplama sayısını azaltmak içindir. Bu sayede ağdaki uyumsuzluk kontrol edilmiş olur. Birçok Pooling işlemleri vardır, fakat en popüleri max pooling’dir. Yine aynı prensipte çalışan average pooling, ve L2-norm pooling algoritmalarıda vardır.\n",
        "\n",
        "\n",
        "     "
      ],
      "metadata": {
        "id": "vA_wMPF_CSvx"
      }
    },
    {
      "cell_type": "markdown",
      "source": [
        "11. 5,5 bir imaja 3,3 lük bir filtre uygulandığında stride=1 olacak şekilde o-elde edilen outputun boyutunun 5,5 olması niçin ne yapabiliriz?\n",
        "\n",
        "* ((5-3)+2P)/1+1=5 ->P=1\n",
        "Zero padding ile imajımızın çevresini 0'lar iler doldurabilir ve sonuç olarak 5x5lik bir output sağlayabiliriz."
      ],
      "metadata": {
        "id": "GgRPAHrPCj0o"
      }
    }
  ]
}