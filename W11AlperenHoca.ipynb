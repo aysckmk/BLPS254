{
  "nbformat": 4,
  "nbformat_minor": 0,
  "metadata": {
    "colab": {
      "provenance": [],
      "authorship_tag": "ABX9TyMB3DGqtCUpXH5YOJI70f0B",
      "include_colab_link": true
    },
    "kernelspec": {
      "name": "python3",
      "display_name": "Python 3"
    },
    "language_info": {
      "name": "python"
    }
  },
  "cells": [
    {
      "cell_type": "markdown",
      "metadata": {
        "id": "view-in-github",
        "colab_type": "text"
      },
      "source": [
        "<a href=\"https://colab.research.google.com/github/aysckmk/BLPS254/blob/main/W11AlperenHoca.ipynb\" target=\"_parent\"><img src=\"https://colab.research.google.com/assets/colab-badge.svg\" alt=\"Open In Colab\"/></a>"
      ]
    },
    {
      "cell_type": "markdown",
      "source": [
        "\n",
        "\n",
        "1. Boş copy nedir? \".Copy\" nedir? DeepCopy nedir? Shallow Copy nedir? Bunlar oluşturduğumuz df'de neleri değiştirir?\n",
        "* Copy nesnenin indekslerinin ve verilerinin bir kopyasını oluşturur. Bu işlem serileri ya da data frameleri döndürür.\n",
        "* DeepCopy verilerin ve dizinlerin bir kopyası dahil olmak üzere derin bir kopya oluşturur. .Copy içindeki deep parametresi deep=True olduğunda, veriler kopyalanır ancak gerçek Python nesneleri yinelemeli olarak kopyalanmaz, yalnızca nesneye yapılan başvuru kopyalanır. Bu, nesne verilerini yinelemeli olarak kopyalayan Standart Kitaplık'taki copy.deepcopy'nin tersidir.\n",
        "* ShallowCopy'de deep=False olduğunda gerçekleşir, çağırılan nesnenin verileri veya dizini kopyalanmadan yeni bir nesne oluşturulur (yalnızca verilere ve dizine yapılan başvurular kopyalanır). Orijinal datanın verilerinde yapılan herhangi bir değişiklik ShallowCopy'e yansıyacaktır.\n",
        "\n"
      ],
      "metadata": {
        "id": "qNt_KW2yT_Ca"
      }
    },
    {
      "cell_type": "code",
      "source": [
        "#Boş Copy\n",
        "\n",
        "import pandas as pd\n",
        "X = [[6,5,7,9],[2,4,8,0]]\n",
        "X = pd.DataFrame(data=X)\n",
        "Y = X\n",
        "print(Y)\n",
        "print(\"X : \",id(X))\n",
        "print(\"Y : \",id(Y))\n",
        "print(\"X ve Y  birbirine eşit midir: \", (id(X) == id(Y)))"
      ],
      "metadata": {
        "colab": {
          "base_uri": "https://localhost:8080/"
        },
        "id": "w-BuPQSWVvPK",
        "outputId": "7739bd84-1ad2-46ec-e8ed-f6c46f6e43a8"
      },
      "execution_count": 9,
      "outputs": [
        {
          "output_type": "stream",
          "name": "stdout",
          "text": [
            "   0  1  2  3\n",
            "0  6  5  7  9\n",
            "1  2  4  8  0\n",
            "X :  140272017075984\n",
            "Y :  140272017075984\n",
            "X ve Y  birbirine eşit midir:  True\n"
          ]
        }
      ]
    },
    {
      "cell_type": "code",
      "source": [
        "# .Copy ve Shallow Copy\n",
        "\n",
        "import copy\n",
        "Y = copy.copy(X)\n",
        "\n",
        "print(Y)\n",
        "print(\"X : \",id(X))\n",
        "print(\"Y : \",id(Y))\n",
        "print(\"X ve Y birbirine eşit midir: \", (id(X) == id(Y)))\n",
        "print(\"X listesi ilk eleman : \",id(X.iloc[0,0]))\n",
        "print(\"Y listesi ilk eleman : \",id(Y.iloc[0,0]))\n",
        "print(\"X listesi ilk elemanı ve Y listesi ilk elemanı  birbirine eşit midir: \", ((id(X.iloc[0,0])) == id(Y.iloc[0,0])))"
      ],
      "metadata": {
        "colab": {
          "base_uri": "https://localhost:8080/"
        },
        "id": "Hi0onmxuWjTD",
        "outputId": "f0489155-3fd4-44d1-ded8-e52d507b48df"
      },
      "execution_count": 10,
      "outputs": [
        {
          "output_type": "stream",
          "name": "stdout",
          "text": [
            "   0  1  2  3\n",
            "0  6  5  7  9\n",
            "1  2  4  8  0\n",
            "X :  140272017075984\n",
            "Y :  140272017074448\n",
            "X ve Y birbirine eşit midir:  False\n",
            "X listesi ilk eleman :  140272017063664\n",
            "Y listesi ilk eleman :  140272017063696\n",
            "X listesi ilk elemanı ve Y listesi ilk elemanı  birbirine eşit midir:  False\n"
          ]
        }
      ]
    },
    {
      "cell_type": "code",
      "source": [
        "#DeepCopy\n",
        "\n",
        "import copy\n",
        "\n",
        "Y = copy.deepcopy(X)\n",
        "\n",
        "print(Y)\n",
        "print(\"X : \",id(X))\n",
        "print(\"Y : \",id(Y))\n",
        "print(\"Y ve B  birbirine eşit midir: \", (id(X) == id(Y)))\n",
        "print(\"X listesi ilk eleman: \",id(X.iloc[0,0]))\n",
        "print(\"Y listesi ilk eleman: \",id(Y.iloc[0,0]))\n",
        "print(\"X listesi ilk elemanı ve Y listesi ilk elemanı birbirine eşit midir: \", (float(id(X.iloc[0,0])) == float(id(Y.iloc[0,0]))))"
      ],
      "metadata": {
        "colab": {
          "base_uri": "https://localhost:8080/"
        },
        "id": "WSg0qaorXW4D",
        "outputId": "609f0c57-a557-4940-8ee3-526d0753ec4f"
      },
      "execution_count": 13,
      "outputs": [
        {
          "output_type": "stream",
          "name": "stdout",
          "text": [
            "   0  1  2  3\n",
            "0  6  5  7  9\n",
            "1  2  4  8  0\n",
            "X :  140272017075984\n",
            "Y :  140272127498176\n",
            "Y ve B  birbirine eşit midir:  False\n",
            "X listesi ilk eleman:  140272017063888\n",
            "Y listesi ilk eleman:  140272017063248\n",
            "X listesi ilk elemanı ve Y listesi ilk elemanı birbirine eşit midir:  True\n"
          ]
        }
      ]
    },
    {
      "cell_type": "markdown",
      "source": [
        "2. e-01 yerine 0.78'i nasıl görebiliriz?\n",
        "\n",
        "\n",
        "* Sayının formatını float olarak dönüştürüp integer bir değer elde edebiliriz ya da noktadan sonra görmek istediğimiz x sayısı kadar '{:.x}'.format(e-01) yazıp sayının formatını değiştirebiliriz."
      ],
      "metadata": {
        "id": "YVzbVP9fUHcY"
      }
    },
    {
      "cell_type": "markdown",
      "source": [
        "3. \"np.Log()\" doğal logaritma dediğimiz şekilde mi gelir yoksa log2 tabanında mı gelir?\n",
        "\n",
        " np.log(): logaritma e tabanında bir dönüşüm yapar. Örneğin:\n"
      ],
      "metadata": {
        "id": "tPCyyqI_UOcz"
      }
    },
    {
      "cell_type": "code",
      "source": [
        "import numpy as np\n",
        "\n",
        "e = np.e\n",
        "\n",
        "print(\"e sayısının np.log ile dönüşümünden çıkan sonuç:  \",np.log(e))\n",
        "print(\"e^9 sayısının np.log ile dönüşümünden çıkan sonuç:  \",np.log(e**9))\n",
        "print(\"e^e sayısının np.log ile dönüşümünden çıkan sonuç:  \",np.log(e**e))\n",
        "print(\"8 sayısının np.log ile dönüşümünden çıkan sonuç: \",np.log(8))"
      ],
      "metadata": {
        "colab": {
          "base_uri": "https://localhost:8080/"
        },
        "id": "Sncrd-zyVKAl",
        "outputId": "f8cdbffd-80f0-4383-e375-2a6f623ef098"
      },
      "execution_count": 4,
      "outputs": [
        {
          "output_type": "stream",
          "name": "stdout",
          "text": [
            "e sayısının np.log ile dönüşümünden çıkan sonuç:   1.0\n",
            "e^9 sayısının np.log ile dönüşümünden çıkan sonuç:   9.0\n",
            "e^e sayısının np.log ile dönüşümünden çıkan sonuç:   2.718281828459045\n",
            "8 sayısının np.log ile dönüşümünden çıkan sonuç:  2.0794415416798357\n"
          ]
        }
      ]
    },
    {
      "cell_type": "markdown",
      "source": [
        "4. Yeo-Johnson çok büyük değerlerde uygulanamıyor mu? Neden Income değerlerinde ki \"10\" olan değerimizi arttırdığımızda(1000 yaptığımızda) çıktımızda bozulmalar oluyor?\n"
      ],
      "metadata": {
        "id": "Tut5ML8fUR_6"
      }
    },
    {
      "cell_type": "code",
      "source": [
        "import pandas as pd\n",
        "from sklearn.preprocessing import PowerTransformer\n",
        "df = pd.DataFrame({\n",
        "    \"Income\": [15,18,120,10],\n",
        "    \"Age\": [25,-1818,42,51],\n",
        "    \"Income_2\":[15000,18000,120000,10000]\n",
        "})\n",
        "df_scaled= df.copy()\n",
        "col_names=[\"Income\",\"Age\",\"Income_2\"]\n",
        "features=df_scaled[col_names]\n",
        "features\n",
        "\n",
        "scaler=PowerTransformer(method=\"yeo-johnson\")\n",
        "df_scaled[col_names]=scaler.fit_transform(features.values)\n",
        "df_scaled"
      ],
      "metadata": {
        "colab": {
          "base_uri": "https://localhost:8080/",
          "height": 209
        },
        "id": "2EVjXb2EX-Db",
        "outputId": "a2fd013e-c70c-4845-95bf-b532a2e77f4f"
      },
      "execution_count": 14,
      "outputs": [
        {
          "output_type": "stream",
          "name": "stderr",
          "text": [
            "/usr/local/lib/python3.8/dist-packages/sklearn/preprocessing/_data.py:3253: RuntimeWarning: divide by zero encountered in log\n",
            "  loglike = -n_samples / 2 * np.log(x_trans.var())\n"
          ]
        },
        {
          "output_type": "execute_result",
          "data": {
            "text/plain": [
              "     Income       Age  Income_2\n",
              "0 -0.317514 -0.165105       0.0\n",
              "1  0.006579 -1.546334       0.0\n",
              "2  1.543055  0.613769       0.0\n",
              "3 -1.232121  1.097670       0.0"
            ],
            "text/html": [
              "\n",
              "  <div id=\"df-a1c5b090-fca5-4a31-9255-9a72d96cce54\">\n",
              "    <div class=\"colab-df-container\">\n",
              "      <div>\n",
              "<style scoped>\n",
              "    .dataframe tbody tr th:only-of-type {\n",
              "        vertical-align: middle;\n",
              "    }\n",
              "\n",
              "    .dataframe tbody tr th {\n",
              "        vertical-align: top;\n",
              "    }\n",
              "\n",
              "    .dataframe thead th {\n",
              "        text-align: right;\n",
              "    }\n",
              "</style>\n",
              "<table border=\"1\" class=\"dataframe\">\n",
              "  <thead>\n",
              "    <tr style=\"text-align: right;\">\n",
              "      <th></th>\n",
              "      <th>Income</th>\n",
              "      <th>Age</th>\n",
              "      <th>Income_2</th>\n",
              "    </tr>\n",
              "  </thead>\n",
              "  <tbody>\n",
              "    <tr>\n",
              "      <th>0</th>\n",
              "      <td>-0.317514</td>\n",
              "      <td>-0.165105</td>\n",
              "      <td>0.0</td>\n",
              "    </tr>\n",
              "    <tr>\n",
              "      <th>1</th>\n",
              "      <td>0.006579</td>\n",
              "      <td>-1.546334</td>\n",
              "      <td>0.0</td>\n",
              "    </tr>\n",
              "    <tr>\n",
              "      <th>2</th>\n",
              "      <td>1.543055</td>\n",
              "      <td>0.613769</td>\n",
              "      <td>0.0</td>\n",
              "    </tr>\n",
              "    <tr>\n",
              "      <th>3</th>\n",
              "      <td>-1.232121</td>\n",
              "      <td>1.097670</td>\n",
              "      <td>0.0</td>\n",
              "    </tr>\n",
              "  </tbody>\n",
              "</table>\n",
              "</div>\n",
              "      <button class=\"colab-df-convert\" onclick=\"convertToInteractive('df-a1c5b090-fca5-4a31-9255-9a72d96cce54')\"\n",
              "              title=\"Convert this dataframe to an interactive table.\"\n",
              "              style=\"display:none;\">\n",
              "        \n",
              "  <svg xmlns=\"http://www.w3.org/2000/svg\" height=\"24px\"viewBox=\"0 0 24 24\"\n",
              "       width=\"24px\">\n",
              "    <path d=\"M0 0h24v24H0V0z\" fill=\"none\"/>\n",
              "    <path d=\"M18.56 5.44l.94 2.06.94-2.06 2.06-.94-2.06-.94-.94-2.06-.94 2.06-2.06.94zm-11 1L8.5 8.5l.94-2.06 2.06-.94-2.06-.94L8.5 2.5l-.94 2.06-2.06.94zm10 10l.94 2.06.94-2.06 2.06-.94-2.06-.94-.94-2.06-.94 2.06-2.06.94z\"/><path d=\"M17.41 7.96l-1.37-1.37c-.4-.4-.92-.59-1.43-.59-.52 0-1.04.2-1.43.59L10.3 9.45l-7.72 7.72c-.78.78-.78 2.05 0 2.83L4 21.41c.39.39.9.59 1.41.59.51 0 1.02-.2 1.41-.59l7.78-7.78 2.81-2.81c.8-.78.8-2.07 0-2.86zM5.41 20L4 18.59l7.72-7.72 1.47 1.35L5.41 20z\"/>\n",
              "  </svg>\n",
              "      </button>\n",
              "      \n",
              "  <style>\n",
              "    .colab-df-container {\n",
              "      display:flex;\n",
              "      flex-wrap:wrap;\n",
              "      gap: 12px;\n",
              "    }\n",
              "\n",
              "    .colab-df-convert {\n",
              "      background-color: #E8F0FE;\n",
              "      border: none;\n",
              "      border-radius: 50%;\n",
              "      cursor: pointer;\n",
              "      display: none;\n",
              "      fill: #1967D2;\n",
              "      height: 32px;\n",
              "      padding: 0 0 0 0;\n",
              "      width: 32px;\n",
              "    }\n",
              "\n",
              "    .colab-df-convert:hover {\n",
              "      background-color: #E2EBFA;\n",
              "      box-shadow: 0px 1px 2px rgba(60, 64, 67, 0.3), 0px 1px 3px 1px rgba(60, 64, 67, 0.15);\n",
              "      fill: #174EA6;\n",
              "    }\n",
              "\n",
              "    [theme=dark] .colab-df-convert {\n",
              "      background-color: #3B4455;\n",
              "      fill: #D2E3FC;\n",
              "    }\n",
              "\n",
              "    [theme=dark] .colab-df-convert:hover {\n",
              "      background-color: #434B5C;\n",
              "      box-shadow: 0px 1px 3px 1px rgba(0, 0, 0, 0.15);\n",
              "      filter: drop-shadow(0px 1px 2px rgba(0, 0, 0, 0.3));\n",
              "      fill: #FFFFFF;\n",
              "    }\n",
              "  </style>\n",
              "\n",
              "      <script>\n",
              "        const buttonEl =\n",
              "          document.querySelector('#df-a1c5b090-fca5-4a31-9255-9a72d96cce54 button.colab-df-convert');\n",
              "        buttonEl.style.display =\n",
              "          google.colab.kernel.accessAllowed ? 'block' : 'none';\n",
              "\n",
              "        async function convertToInteractive(key) {\n",
              "          const element = document.querySelector('#df-a1c5b090-fca5-4a31-9255-9a72d96cce54');\n",
              "          const dataTable =\n",
              "            await google.colab.kernel.invokeFunction('convertToInteractive',\n",
              "                                                     [key], {});\n",
              "          if (!dataTable) return;\n",
              "\n",
              "          const docLinkHtml = 'Like what you see? Visit the ' +\n",
              "            '<a target=\"_blank\" href=https://colab.research.google.com/notebooks/data_table.ipynb>data table notebook</a>'\n",
              "            + ' to learn more about interactive tables.';\n",
              "          element.innerHTML = '';\n",
              "          dataTable['output_type'] = 'display_data';\n",
              "          await google.colab.output.renderOutput(dataTable, element);\n",
              "          const docLink = document.createElement('div');\n",
              "          docLink.innerHTML = docLinkHtml;\n",
              "          element.appendChild(docLink);\n",
              "        }\n",
              "      </script>\n",
              "    </div>\n",
              "  </div>\n",
              "  "
            ]
          },
          "metadata": {},
          "execution_count": 14
        }
      ]
    },
    {
      "cell_type": "markdown",
      "source": [
        "Yeo-Johnson dönüşümü, Box-Cox ile aynı amaç doğrultusunda, normal olmayan bir değişkenin normale dönüştürülmesidir. Ancak Yeo-Johnson daha da ileri giderek y'nin 0 ve hatta negatif değerlere sahip olmasına izin veriyor. Bir diğer deyişle, veri setinde negatif ve sıfır değere sahip gözlemler olduğunda kullanışlı hale geliyor."
      ],
      "metadata": {
        "id": "cFUegVu1X_oa"
      }
    },
    {
      "cell_type": "code",
      "source": [
        "scaler.lambdas_\n"
      ],
      "metadata": {
        "colab": {
          "base_uri": "https://localhost:8080/"
        },
        "id": "1qva6iVnYIC6",
        "outputId": "aad0e637-650c-431e-ae56-117ff4c2d8db"
      },
      "execution_count": 15,
      "outputs": [
        {
          "output_type": "execute_result",
          "data": {
            "text/plain": [
              "array([ -0.92945142,   1.49358606, -18.94427159])"
            ]
          },
          "metadata": {},
          "execution_count": 15
        }
      ]
    },
    {
      "cell_type": "markdown",
      "source": [
        "Yeo-Johnson, daha tek biçimli bir veri kümesi oluşturmak için düşük varyanslı verileri şişirir ve yüksek varyanslı verileri söndürür. Yukarıda ki örneğimizde income2 değerleri yüksek varyanslı olduğu için diğer iki kolondaki değerlere yaklaştırabilmek için method income2 değerlerini düşürmüştür."
      ],
      "metadata": {
        "id": "XwjwPQhZYL_q"
      }
    }
  ]
}